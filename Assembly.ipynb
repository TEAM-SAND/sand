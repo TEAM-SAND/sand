{
  "nbformat": 4,
  "nbformat_minor": 0,
  "metadata": {
    "colab": {
      "provenance": []
    },
    "kernelspec": {
      "name": "python3",
      "display_name": "Python 3"
    },
    "language_info": {
      "name": "python"
    }
  },
  "cells": [
    {
      "cell_type": "code",
      "source": [
        "# This block is personal notes from various stages of the project\n",
        "# This primarily served as a TODO list where I could also sketch\n",
        "# basic ideas of how to solve upcoming problems\n",
        "\n",
        "\n",
        "\n",
        "# TODO:\n",
        "# Prove whether or not current method actually works,\n",
        "# collision avoidance, termination, etc.\n",
        "# AND / OR\n",
        "# Write movement step code\n",
        "# Use random boards as 'proof' of concept\n",
        "\n",
        "# Get perform move working\n",
        "# Representation of paths in code\n",
        "# -> transition towards pre-calculating paths\n",
        "\n",
        "# For 3d - assemble first layer into sheet, then do second on top\n",
        "\n",
        "# At some point, must get conversion between startid and local botid;\n",
        "# possibly from manual setup in desired locations\n",
        "# (since we can't currently get position from bot)\n",
        "\n",
        "# GO THROUGH ENTIRE PROJECT AND DOUBLE CHECK:\n",
        "# ARE XPOS, YPOS, ROW, COL APPROPRIATELY DONE FOR BOARDS\n",
        "\n",
        "# When revising assembly algorithm, can check:\n",
        "# if position ahead that's sticking is end position, fail that branch\n",
        "# if not, wait one unit of time, then check again\n",
        "# Note this method can be optimized by waiting bot being one with smaller distance\n",
        "\n",
        "# Transfer boards to use 0 or id\n",
        "# Have start board read ids and place into dict differently\n",
        "# end board read should be the same though, as 1 and 10 not related\n",
        "# Then, can create start board from bot pos OR bot pos from start board\n",
        "# rather than just bot pos from start board (as ids are pre-assigned)\n",
        "# Helps with id initialization, but not position\n",
        "# if position is solved, then can extrapolate from there\n",
        "# Uglier solution, but could automate process by picture to board,\n",
        "# but gonna be more effort than it's worth\n",
        "\n",
        "# Next time: Test functionality with different board sizes and bot counts;\n",
        "# checking indexing in all functions\n",
        "# Also, work on adding alternative pathfinding measures for cases where we fail\n",
        "\n",
        "\n",
        "\n",
        "# Write latching algorithm - need code for bots to stick together once assembled\n",
        "# With our hardware (electromagnets), need to turn on only one side of each connection\n",
        "# so that side attracts the metal in the other turned off magnet\n",
        "# This should work better with electropermanent magnets, which have more metal\n",
        "# Ideally, use magnets which can be positive or negative (or off), allowing for\n",
        "# much more attractive force\n",
        "\n",
        "# Latching Algorithm: Flag final move as final position\n",
        "# At end of step, check all bots that just reached final position\n",
        "#    (store what has already reached and check against that a la graph algo?)\n",
        "# Of bots that just reached final position,\n",
        "#   check if touching an already reached final position bot;\n",
        "#   if so, current bot turns that face on\n",
        "# If touching bot that also just reached final position,\n",
        "# somehow determine one to have face on and other to not\n",
        "# (move first one that latching algo found to already reached\n",
        "#   final position set after latching to all already reached)"
      ],
      "metadata": {
        "id": "J23IXP0oY-1Y"
      },
      "execution_count": null,
      "outputs": []
    },
    {
      "cell_type": "markdown",
      "source": [
        "<h1>Setup</h1>"
      ],
      "metadata": {
        "id": "pCzeOObhy8Ok"
      }
    },
    {
      "cell_type": "code",
      "source": [
        "import numpy as np\n",
        "import itertools\n",
        "import random\n",
        "import time\n",
        "from IPython.display import clear_output"
      ],
      "metadata": {
        "id": "SkLPsfWrvEpg"
      },
      "execution_count": null,
      "outputs": []
    },
    {
      "cell_type": "code",
      "source": [
        "# Setup\n",
        "xsize = 5\n",
        "ysize = 5\n",
        "size = (xsize, ysize)\n",
        "\n",
        "board = [[0,1,0,0,0],[0]*5,[0,0,0,1,0],[0,0,1,0,0],[1,0,0,1,0]]\n",
        "board = np.asarray(board)\n",
        "print(board)"
      ],
      "metadata": {
        "colab": {
          "base_uri": "https://localhost:8080/"
        },
        "id": "oOHC67bSusIz",
        "outputId": "54046fe5-dfd5-4955-ce0c-42887cb1ba92"
      },
      "execution_count": null,
      "outputs": [
        {
          "output_type": "stream",
          "name": "stdout",
          "text": [
            "[[0 1 0 0 0]\n",
            " [0 0 0 0 0]\n",
            " [0 0 0 1 0]\n",
            " [0 0 1 0 0]\n",
            " [1 0 0 1 0]]\n"
          ]
        }
      ]
    },
    {
      "cell_type": "code",
      "source": [
        "# Randomly generate a board\n",
        "\n",
        "def gen_board(xsize, ysize, bots):\n",
        "  # Random ints between 0 and x*y-1, format to array\n",
        "  startlocs = random.sample(range(xsize * ysize), bots)\n",
        "  board = []\n",
        "  for row in range(ysize):\n",
        "    board.append([0] * xsize)\n",
        "  row, col = 0, 0\n",
        "  for val in list(startlocs):\n",
        "    # Would be faster to do division with remainder to get row, val\n",
        "    while val >= xsize:\n",
        "      row += 1\n",
        "      val -= xsize\n",
        "    col = val\n",
        "    board[row][col] = 1\n",
        "    row, col = 0, 0\n",
        "  board = np.asarray(board)\n",
        "  return board"
      ],
      "metadata": {
        "id": "9H_uW5vQ7k1G"
      },
      "execution_count": null,
      "outputs": []
    },
    {
      "cell_type": "code",
      "source": [
        "print(gen_board(5, 5, 5))"
      ],
      "metadata": {
        "colab": {
          "base_uri": "https://localhost:8080/"
        },
        "id": "Z3ggpsOkipCh",
        "outputId": "677a2ead-fcae-44b0-d4ae-5bee3d922141"
      },
      "execution_count": null,
      "outputs": [
        {
          "output_type": "stream",
          "name": "stdout",
          "text": [
            "[[0 0 1 0 0]\n",
            " [0 0 0 1 0]\n",
            " [0 0 1 0 1]\n",
            " [0 0 0 0 0]\n",
            " [0 0 0 0 1]]\n"
          ]
        }
      ]
    },
    {
      "cell_type": "code",
      "source": [
        "# Create an ending board manually; a cross in the middle\n",
        "end_board = [ [0]*5, [0,0,1,0,0], [0,1,1,1,0], [0,0,1,0,0], [0]*5]\n",
        "end_board = np.asarray(end_board)\n",
        "print(end_board)"
      ],
      "metadata": {
        "colab": {
          "base_uri": "https://localhost:8080/"
        },
        "id": "wnaZNzy0ynQo",
        "outputId": "0d0d8659-9c76-403d-9727-afa99c1f362b"
      },
      "execution_count": null,
      "outputs": [
        {
          "output_type": "stream",
          "name": "stdout",
          "text": [
            "[[0 0 0 0 0]\n",
            " [0 0 1 0 0]\n",
            " [0 1 1 1 0]\n",
            " [0 0 1 0 0]\n",
            " [0 0 0 0 0]]\n"
          ]
        }
      ]
    },
    {
      "cell_type": "code",
      "source": [
        "board = gen_board(5, 5, 5)\n",
        "end_board = gen_board(5, 5, 5)\n",
        "print(board)\n",
        "print(end_board)"
      ],
      "metadata": {
        "colab": {
          "base_uri": "https://localhost:8080/"
        },
        "id": "Hhvnv8hzzJZC",
        "outputId": "d7aae502-984d-4db9-ccb3-dff077964533"
      },
      "execution_count": null,
      "outputs": [
        {
          "output_type": "stream",
          "name": "stdout",
          "text": [
            "[[0 0 0 0 0]\n",
            " [0 0 0 0 0]\n",
            " [0 0 0 0 1]\n",
            " [0 1 0 0 1]\n",
            " [0 0 1 0 1]]\n",
            "[[0 0 0 0 0]\n",
            " [0 0 0 1 0]\n",
            " [0 0 1 0 0]\n",
            " [0 1 0 0 0]\n",
            " [0 0 1 1 0]]\n"
          ]
        }
      ]
    },
    {
      "cell_type": "code",
      "source": [
        "# Loop through board, cols then rows, finding 1's, id of order found in to (x, y)\n",
        "# If isend, id's scale in 10s instead of 1s for convenience?\n",
        "\n",
        "# Scaling id by 10 this way only works when less than 10 bots\n",
        "# Soln: multiply by power of 10 to prevent overlap (sum to get bot count?)\n",
        "\n",
        "# NOTE: IF WE CHANGE startids FROM BEING 1,2,3,...\n",
        "# THEN MANY LOOPS LATER IN THE CODE WILL BREAK\n",
        "# (often loop through tuple 0,1,2... and through dict 0+1,1+1,2+1,...)\n",
        "def convert_board(board, isend):\n",
        "  ident = 1\n",
        "  if isend:\n",
        "    ident = 10\n",
        "  botpos = {}\n",
        "  for row in range(len(board)):\n",
        "    for col in range(len(board[0])):\n",
        "      if board[row, col] == 1:\n",
        "        botpos[ident] = (row, col)\n",
        "        ident += 1\n",
        "        if isend:\n",
        "          ident += 9\n",
        "  return botpos"
      ],
      "metadata": {
        "id": "I_FskMpGvnFy"
      },
      "execution_count": null,
      "outputs": []
    },
    {
      "cell_type": "code",
      "source": [
        "# Using boards that errored, randomly generated\n",
        "\"\"\"\n",
        "print(savestartboard)\n",
        "print(saveendboard)\n",
        "startlist = convert_board(savestartboard, False)\n",
        "endlist = convert_board(saveendboard, True)\n",
        "print(startlist)\n",
        "print(endlist)\n",
        "\"\"\""
      ],
      "metadata": {
        "colab": {
          "base_uri": "https://localhost:8080/",
          "height": 53
        },
        "id": "SEZuZTiVuhq7",
        "outputId": "4bb9f5e5-e2f3-4fe3-c8cb-e8412351dd60"
      },
      "execution_count": null,
      "outputs": [
        {
          "output_type": "execute_result",
          "data": {
            "text/plain": [
              "'\\nprint(savestartboard)\\nprint(saveendboard)\\nstartlist = convert_board(savestartboard, False)\\nendlist = convert_board(saveendboard, True)\\nprint(startlist)\\nprint(endlist)\\n'"
            ],
            "application/vnd.google.colaboratory.intrinsic+json": {
              "type": "string"
            }
          },
          "metadata": {},
          "execution_count": 9
        }
      ]
    },
    {
      "cell_type": "code",
      "source": [
        "startlist = convert_board(board, False)\n",
        "print(startlist)\n",
        "endlist = convert_board(end_board, True)\n",
        "print(endlist)"
      ],
      "metadata": {
        "colab": {
          "base_uri": "https://localhost:8080/"
        },
        "id": "UkGKOZrvX6Uc",
        "outputId": "e4834a7d-2435-4663-989e-f862e9ab2827"
      },
      "execution_count": null,
      "outputs": [
        {
          "output_type": "stream",
          "name": "stdout",
          "text": [
            "{1: (0, 1), 2: (2, 3), 3: (3, 2), 4: (4, 0), 5: (4, 3)}\n",
            "{10: (1, 2), 20: (2, 1), 30: (2, 2), 40: (2, 3), 50: (3, 2)}\n"
          ]
        }
      ]
    },
    {
      "cell_type": "code",
      "source": [
        "# For each bot position, find distance to each end position\n",
        "# Returns dict of startid to dict of endid to distance from startpos to endpos\n",
        "def find_dists(startlist, endlist):\n",
        "  dists = {}\n",
        "  for sid in startlist:\n",
        "    newlist = {}\n",
        "    srow, scol = startlist[sid]\n",
        "    for eid in endlist:\n",
        "      erow, ecol = endlist[eid]\n",
        "      # Distance is difference in x coord + difference in y coord\n",
        "      newlist[eid] = abs(erow - srow) + abs(ecol - scol)\n",
        "    dists[sid] = newlist\n",
        "  return dists"
      ],
      "metadata": {
        "id": "XOwc1_QWYqPt"
      },
      "execution_count": null,
      "outputs": []
    },
    {
      "cell_type": "code",
      "source": [
        "distlist = find_dists(startlist, endlist)\n",
        "print(distlist)"
      ],
      "metadata": {
        "colab": {
          "base_uri": "https://localhost:8080/"
        },
        "id": "i95UY92gZTdM",
        "outputId": "97cae761-40de-451c-beeb-faed8f794a8d"
      },
      "execution_count": null,
      "outputs": [
        {
          "output_type": "stream",
          "name": "stdout",
          "text": [
            "{1: {10: 2, 20: 2, 30: 3, 40: 4, 50: 4}, 2: {10: 2, 20: 2, 30: 1, 40: 0, 50: 2}, 3: {10: 2, 20: 2, 30: 1, 40: 2, 50: 0}, 4: {10: 5, 20: 3, 30: 4, 40: 5, 50: 3}, 5: {10: 4, 20: 4, 30: 3, 40: 2, 50: 2}}\n"
          ]
        }
      ]
    },
    {
      "cell_type": "markdown",
      "source": [
        "<h1>Pathfinding</h1>"
      ],
      "metadata": {
        "id": "Nv71upjq2SAa"
      }
    },
    {
      "cell_type": "code",
      "source": [
        "# Figure out more efficient pathfinding\n",
        "# Ideas:\n",
        "# Zero distance is probably better off moving out of the way of another\n",
        "# If we can calculate minimum sum across permutations of ids, then we might be able to find that\n",
        "# ^^ Might solve the issue above, but want to prove\n",
        "# Also, need to write the code for it"
      ],
      "metadata": {
        "id": "NjEzhS7n2Z_D"
      },
      "execution_count": null,
      "outputs": []
    },
    {
      "cell_type": "code",
      "source": [
        "# Given 2d array, where each row is a starting position and each column is\n",
        "  # distance to a given end position,\n",
        "# want to find unique columns for each row such that the sum\n",
        "  # of the distances is minimized\n",
        "# Could brute force by checking each permutation, but that runs in n factorial\n",
        "  # (size of S_n) which is absurd\n",
        "# Is it possible to make divide and conquer work?\n",
        "# Feels like no, since we could easily get overlap:\n",
        "# [ [1, 2, 3, 4], [2, 1, 3, 4], [0, 5, 1, 2], [1, 4, 3, 2] ]\n",
        "  # has overlapping indices regardless of splitting rows or cols\n",
        "  # (Splitting cols gives indices 0, 1 : 0, 3 OR 2, 0;\n",
        "    # splitting rows gives indices 2, 1 : 2, 3)"
      ],
      "metadata": {
        "id": "te0pXLE53Qcq"
      },
      "execution_count": null,
      "outputs": []
    },
    {
      "cell_type": "code",
      "source": [
        "# One possible method (still computationally expensive)\n",
        "# Transform dict of dict into array of dict\n",
        "distarr = np.array([distlist[key + 1] for key in range(len(distlist))]).T\n",
        "# Transform array of dict into array of array\n",
        "distarr = np.asarray([list(row.values()) for row in distarr])\n",
        "print(distarr)\n",
        "# Now arr is 2d array, where (i, j) = (i+1, (j+1)*10)"
      ],
      "metadata": {
        "colab": {
          "base_uri": "https://localhost:8080/"
        },
        "id": "Br0Tl5RO9cUo",
        "outputId": "cad30b31-d5a0-4fc1-d1a6-22b0552044ad"
      },
      "execution_count": null,
      "outputs": [
        {
          "output_type": "stream",
          "name": "stdout",
          "text": [
            "[[2 2 3 4 4]\n",
            " [2 2 1 0 2]\n",
            " [2 2 1 2 0]\n",
            " [5 3 4 5 3]\n",
            " [4 4 3 2 2]]\n"
          ]
        }
      ]
    },
    {
      "cell_type": "code",
      "source": [
        "# Given array, returns permutation of column indices\n",
        "# to get minimum sum of values\n",
        "# Returns tuple where ith value is the column for the ith row\n",
        "# TODO: Write case where no permutations\n",
        "def minsum(arr):\n",
        "  # Set large minimum as default\n",
        "  mini = np.max(arr) * len(arr)\n",
        "\n",
        "  # For each possible permutation,\n",
        "  for perm in itertools.permutations(range(len(arr))):\n",
        "    total = 0\n",
        "    # Add the values at (i, perm[i]) to sum\n",
        "    for i in range(len(arr)):\n",
        "      total += arr[i][list(perm)[i]]\n",
        "      if total > mini:\n",
        "        break\n",
        "    # If perm has smaller sum than min, store new min sum and permutation\n",
        "    if total < mini:\n",
        "      mini = total\n",
        "      minperm = perm\n",
        "  # Return the smallest permutation found\n",
        "  return minperm\n",
        "\n",
        "  # OLD:\n",
        "  \"\"\"\n",
        "  for i in range(ysize):\n",
        "      # HERE we can implement periodic sum checking\n",
        "      lst.append(arr[i][list(perm)[i]])\n",
        "    # If perm has smaller sum than min, store new min sum and permutation\n",
        "    if sum(lst) < min:\n",
        "      min = sum(lst)\n",
        "      minperm = perm\n",
        "  \"\"\""
      ],
      "metadata": {
        "id": "G53ULUCWHsjc"
      },
      "execution_count": null,
      "outputs": []
    },
    {
      "cell_type": "code",
      "source": [
        "# Note: I don't know if this method will work overall,\n",
        "  # since we might still be able to create traffic jams\n",
        "  # Validity of algorithm must be proven,\n",
        "  # but likely best to improve first\n",
        "  # Proof might help visualization/learning how to make working algo\n",
        "\n",
        "print(minsum(distarr))"
      ],
      "metadata": {
        "colab": {
          "base_uri": "https://localhost:8080/"
        },
        "id": "l_IUaILK_rIs",
        "outputId": "59bcd172-a125-4ec2-e8d9-80bfa31eeda8"
      },
      "execution_count": null,
      "outputs": [
        {
          "output_type": "stream",
          "name": "stdout",
          "text": [
            "(0, 2, 4, 1, 3)\n"
          ]
        }
      ]
    },
    {
      "cell_type": "markdown",
      "source": [
        "<h1> TESTING</h1>"
      ],
      "metadata": {
        "id": "CcMPuG2qAwMd"
      }
    },
    {
      "cell_type": "code",
      "source": [
        "# Takes tuple of end goal positions and dict of endid : endpos\n",
        "# Returns dict from startid : endpos\n",
        "def convert_goals(goals, endlist):\n",
        "  goaldict = {}\n",
        "  ident = 1\n",
        "  for pos in goals:\n",
        "    goaldict[ident] = endlist[(pos + 1) * 10]\n",
        "    ident += 1\n",
        "  return goaldict"
      ],
      "metadata": {
        "id": "tp9GusuACQ_W"
      },
      "execution_count": null,
      "outputs": []
    },
    {
      "cell_type": "code",
      "source": [
        "# Note that at this point, endid is no longer used\n",
        "# We have startid based on startpos and endpos as identifiers\n",
        "goals = convert_goals(minsum(distarr), endlist)\n",
        "print(goals)"
      ],
      "metadata": {
        "colab": {
          "base_uri": "https://localhost:8080/"
        },
        "id": "PGg-vu3ZDn0u",
        "outputId": "fe51dd3e-68db-4d28-d554-ed672109a243"
      },
      "execution_count": null,
      "outputs": [
        {
          "output_type": "stream",
          "name": "stdout",
          "text": [
            "{1: (1, 2), 2: (2, 2), 3: (3, 2), 4: (2, 1), 5: (2, 3)}\n"
          ]
        }
      ]
    },
    {
      "cell_type": "code",
      "source": [
        "# print(savestartboard)\n",
        "# print(saveendboard)"
      ],
      "metadata": {
        "id": "8C8zHiyWvQcu"
      },
      "execution_count": null,
      "outputs": []
    },
    {
      "cell_type": "code",
      "source": [
        "# Get start position and end position from start and goal\n",
        "\"\"\"\n",
        "# Idea: create binary tree, node has position, left side being hori, right side being verti\n",
        "# Create tree for each start and end pair\n",
        "# Traverse each path possibility and check for collisions\n",
        "\n",
        "COUNT = 0\n",
        "\n",
        "class Node:\n",
        "  def __init__(self, hori, verti, pos, isEnd):\n",
        "    self.hori = hori\n",
        "    self.verti = verti\n",
        "    self.pos = pos\n",
        "    self.isEnd = isEnd\n",
        "\n",
        "  # I don't even know why this doesn't work\n",
        "  def str(self):\n",
        "    global COUNT\n",
        "    COUNT += 1 # Hopefully this works as intended\n",
        "    c = COUNT\n",
        "    print(\"Node\",str(c),self.pos)\n",
        "    h = \"None\"\n",
        "    if self.hori is not None:\n",
        "      h = self.hori.str()\n",
        "    print(\"hori (\"+str(c)+\"): \"+h)\n",
        "    v = \"None\"\n",
        "    if self.verti is not None:\n",
        "      v = self.verti.str()\n",
        "    print(\"verti (\"+str(c)+\"): \"+v)\n",
        "\n",
        "# Creates tree of all possible (direct) paths from given start and end position\n",
        "# None means going further in that direction is away from end\n",
        "# isEnd flag indicates ending nodes\n",
        "def path(start, end):\n",
        "  xs, ys = start\n",
        "  xe, ye = end\n",
        "  # If we are at end, no need to add another node\n",
        "  if start == end:\n",
        "    return Node(None, None, end, True)\n",
        "  # Otherwise, add node with next in vertical and horizontal path\n",
        "  if xs < xe:\n",
        "    hori = path((xs+1, ys), end)\n",
        "  elif xs > xe:\n",
        "    hori = path((xs-1, ys), end)\n",
        "  else:\n",
        "    hori = None\n",
        "  if ys < ye:\n",
        "    verti = path((xs, ys+1), end)\n",
        "  elif ys > ye:\n",
        "    verti = path((xs, ys-1), end)\n",
        "  else:\n",
        "    verti = None\n",
        "  return Node(hori, verti, start, False)\n",
        "\"\"\"\n",
        "# Rather than using clunky and slow OOP trees, just go straight from lists\n",
        "# We pass in lsts as an empty list; function populates lsts with desired paths\n",
        "def pathList(start, end, lst, lsts):\n",
        "  srow, scol = start\n",
        "  erow, ecol = end\n",
        "  if start == end:\n",
        "    lsts.append(lst + [end])\n",
        "    return\n",
        "  if srow < erow:\n",
        "    pathList((srow+1, scol), end, lst + [start], lsts)\n",
        "  elif srow > erow:\n",
        "    pathList((srow-1, scol), end, lst + [start], lsts)\n",
        "  if scol < ecol:\n",
        "    pathList((srow, scol+1), end, lst + [start], lsts)\n",
        "  elif scol > ecol:\n",
        "    pathList((srow, scol-1), end, lst + [start], lsts)\n",
        "  # To add in more complexity (kinda brute forcing better results),\n",
        "  # add in pathList((srow, scol), end, lst+[start], lsts)\n",
        "  # BUT add a flag so that we only a finite number of pauses;\n",
        "  # otherwise we will make infinite lists\n",
        "  # add parameter hasPaused; if not hasPaused: add in a pause\n",
        "\n",
        "# This is tree-based code, deprecated\n",
        "# root = path((1,1), (2,2))\n",
        "# print(root.str())\n",
        "# root2 = path((3,4),(0,0))\n",
        "\n",
        "lsts = []\n",
        "pathList((3,4), (0,0), [], lsts)\n",
        "print(lsts)\n",
        "print(len(lsts))\n",
        "\n",
        "# So, this works for getting ONE tree out of a start and end\n",
        "# Whether that tree is useful or not is yet to be seen\n",
        "# And, how to transform that tree into something useful\n",
        "\n",
        "# I think the next step is to transform the tree into lists\n",
        "# Where we have positions and time intervals (indicies)\n",
        "# Then, we look at every bot's position simultaneously,\n",
        "# choose some paths, and check for collisions at all times\n",
        "# If no collisions, good to go\n",
        "# Otherwise, change the colliding paths somehow"
      ],
      "metadata": {
        "id": "X_1Nh5p8namV",
        "colab": {
          "base_uri": "https://localhost:8080/"
        },
        "outputId": "617c78b2-b5c3-47f2-825e-dac63fa1d003"
      },
      "execution_count": null,
      "outputs": [
        {
          "output_type": "stream",
          "name": "stdout",
          "text": [
            "[[(3, 4), (2, 4), (1, 4), (0, 4), (0, 3), (0, 2), (0, 1), (0, 0)], [(3, 4), (2, 4), (1, 4), (1, 3), (0, 3), (0, 2), (0, 1), (0, 0)], [(3, 4), (2, 4), (1, 4), (1, 3), (1, 2), (0, 2), (0, 1), (0, 0)], [(3, 4), (2, 4), (1, 4), (1, 3), (1, 2), (1, 1), (0, 1), (0, 0)], [(3, 4), (2, 4), (1, 4), (1, 3), (1, 2), (1, 1), (1, 0), (0, 0)], [(3, 4), (2, 4), (2, 3), (1, 3), (0, 3), (0, 2), (0, 1), (0, 0)], [(3, 4), (2, 4), (2, 3), (1, 3), (1, 2), (0, 2), (0, 1), (0, 0)], [(3, 4), (2, 4), (2, 3), (1, 3), (1, 2), (1, 1), (0, 1), (0, 0)], [(3, 4), (2, 4), (2, 3), (1, 3), (1, 2), (1, 1), (1, 0), (0, 0)], [(3, 4), (2, 4), (2, 3), (2, 2), (1, 2), (0, 2), (0, 1), (0, 0)], [(3, 4), (2, 4), (2, 3), (2, 2), (1, 2), (1, 1), (0, 1), (0, 0)], [(3, 4), (2, 4), (2, 3), (2, 2), (1, 2), (1, 1), (1, 0), (0, 0)], [(3, 4), (2, 4), (2, 3), (2, 2), (2, 1), (1, 1), (0, 1), (0, 0)], [(3, 4), (2, 4), (2, 3), (2, 2), (2, 1), (1, 1), (1, 0), (0, 0)], [(3, 4), (2, 4), (2, 3), (2, 2), (2, 1), (2, 0), (1, 0), (0, 0)], [(3, 4), (3, 3), (2, 3), (1, 3), (0, 3), (0, 2), (0, 1), (0, 0)], [(3, 4), (3, 3), (2, 3), (1, 3), (1, 2), (0, 2), (0, 1), (0, 0)], [(3, 4), (3, 3), (2, 3), (1, 3), (1, 2), (1, 1), (0, 1), (0, 0)], [(3, 4), (3, 3), (2, 3), (1, 3), (1, 2), (1, 1), (1, 0), (0, 0)], [(3, 4), (3, 3), (2, 3), (2, 2), (1, 2), (0, 2), (0, 1), (0, 0)], [(3, 4), (3, 3), (2, 3), (2, 2), (1, 2), (1, 1), (0, 1), (0, 0)], [(3, 4), (3, 3), (2, 3), (2, 2), (1, 2), (1, 1), (1, 0), (0, 0)], [(3, 4), (3, 3), (2, 3), (2, 2), (2, 1), (1, 1), (0, 1), (0, 0)], [(3, 4), (3, 3), (2, 3), (2, 2), (2, 1), (1, 1), (1, 0), (0, 0)], [(3, 4), (3, 3), (2, 3), (2, 2), (2, 1), (2, 0), (1, 0), (0, 0)], [(3, 4), (3, 3), (3, 2), (2, 2), (1, 2), (0, 2), (0, 1), (0, 0)], [(3, 4), (3, 3), (3, 2), (2, 2), (1, 2), (1, 1), (0, 1), (0, 0)], [(3, 4), (3, 3), (3, 2), (2, 2), (1, 2), (1, 1), (1, 0), (0, 0)], [(3, 4), (3, 3), (3, 2), (2, 2), (2, 1), (1, 1), (0, 1), (0, 0)], [(3, 4), (3, 3), (3, 2), (2, 2), (2, 1), (1, 1), (1, 0), (0, 0)], [(3, 4), (3, 3), (3, 2), (2, 2), (2, 1), (2, 0), (1, 0), (0, 0)], [(3, 4), (3, 3), (3, 2), (3, 1), (2, 1), (1, 1), (0, 1), (0, 0)], [(3, 4), (3, 3), (3, 2), (3, 1), (2, 1), (1, 1), (1, 0), (0, 0)], [(3, 4), (3, 3), (3, 2), (3, 1), (2, 1), (2, 0), (1, 0), (0, 0)], [(3, 4), (3, 3), (3, 2), (3, 1), (3, 0), (2, 0), (1, 0), (0, 0)]]\n",
            "35\n"
          ]
        }
      ]
    },
    {
      "cell_type": "code",
      "source": [
        "# Create a dictionary id maps to list of all possible paths from start to goal\n",
        "def getAllPaths(startlist, goals):\n",
        "  allPaths = {}\n",
        "  for id in goals:\n",
        "    lsts = []\n",
        "    pathList(startlist[id], goals[id], [], lsts)\n",
        "    allPaths[id] = lsts.copy()\n",
        "  return allPaths\n",
        "# print(startlist)\n",
        "# print(goals)\n",
        "allPaths = getAllPaths(startlist, goals)\n",
        "print(allPaths)"
      ],
      "metadata": {
        "colab": {
          "base_uri": "https://localhost:8080/"
        },
        "id": "XVpzxoItl0CP",
        "outputId": "33512c0b-8123-4b5a-e9d9-61adfa0f38b4"
      },
      "execution_count": null,
      "outputs": [
        {
          "output_type": "stream",
          "name": "stdout",
          "text": [
            "{1: [[(0, 1), (1, 1), (1, 2)], [(0, 1), (0, 2), (1, 2)]], 2: [[(2, 3), (2, 2)]], 3: [[(3, 2)]], 4: [[(4, 0), (3, 0), (2, 0), (2, 1)], [(4, 0), (3, 0), (3, 1), (2, 1)], [(4, 0), (4, 1), (3, 1), (2, 1)]], 5: [[(4, 3), (3, 3), (2, 3)]]}\n"
          ]
        }
      ]
    },
    {
      "cell_type": "code",
      "source": [
        "# We calculate at what time stamp each bot will be in its final position\n",
        "# This will be necessary to store for the latching algorithm later\n",
        "def finalPosTimes(allPaths):\n",
        "  return [len(allPaths[i][0])-1 for i in allPaths.keys()]\n",
        "\n",
        "finalTimes = finalPosTimes(allPaths)\n",
        "print(finalTimes)"
      ],
      "metadata": {
        "colab": {
          "base_uri": "https://localhost:8080/"
        },
        "id": "YnYG9NNTsWHk",
        "outputId": "442dd983-a28c-44ed-9dd5-7a8e1254d756"
      },
      "execution_count": null,
      "outputs": [
        {
          "output_type": "stream",
          "name": "stdout",
          "text": [
            "[2, 1, 0, 3, 2]\n"
          ]
        }
      ]
    },
    {
      "cell_type": "code",
      "source": [
        "# We'll also want to convert allPaths to a more helpful format,\n",
        "# so we change all lists to the largest length and repeat the last entry to fill\n",
        "# First, find largest value\n",
        "def convertAllPaths(allPaths):\n",
        "  # Also, make more pythonic? do list comprehension then find max?\n",
        "  maxi = -1\n",
        "  for paths in allPaths.values():\n",
        "    newval = len(paths[0]) # will have to change if we add in waits;\n",
        "    # right now assumes that all paths are same length\n",
        "    # ^ might be problem currently happening; some lists are diff lengths\n",
        "    # though they shouldn't be at this current moment\n",
        "    # Make a fully comprehensive maxi search, see if that resolves\n",
        "    if newval > maxi:\n",
        "      maxi = newval\n",
        "  for paths in allPaths.values():\n",
        "    # paths is lst of lst of tuples\n",
        "    for i in range(len(paths)):\n",
        "      lastval = paths[i][len(paths[i]) - 1]\n",
        "      for j in range(maxi - len(paths[i])):\n",
        "        paths[i].append(lastval)\n",
        "  return maxi\n",
        "maxi = convertAllPaths(allPaths)\n",
        "print(maxi, allPaths)"
      ],
      "metadata": {
        "colab": {
          "base_uri": "https://localhost:8080/"
        },
        "id": "jfMSiYQ9sOZV",
        "outputId": "f01a7bb5-18a1-46b9-cdc8-5531909daca3"
      },
      "execution_count": null,
      "outputs": [
        {
          "output_type": "stream",
          "name": "stdout",
          "text": [
            "4 {1: [[(0, 1), (1, 1), (1, 2), (1, 2)], [(0, 1), (0, 2), (1, 2), (1, 2)]], 2: [[(2, 3), (2, 2), (2, 2), (2, 2)]], 3: [[(3, 2), (3, 2), (3, 2), (3, 2)]], 4: [[(4, 0), (3, 0), (2, 0), (2, 1)], [(4, 0), (3, 0), (3, 1), (2, 1)], [(4, 0), (4, 1), (3, 1), (2, 1)]], 5: [[(4, 3), (3, 3), (2, 3), (2, 3)]]}\n"
          ]
        }
      ]
    },
    {
      "cell_type": "code",
      "source": [
        "# Next, we want to check all paths to see if any combinations work without collision\n",
        "# To do this, if we can generate all combinations of indices for each id,\n",
        "# then we can check the paths by checking index combinations\n",
        "def makeLsts(allPaths):\n",
        "  pathLengths = [len(x) for x in allPaths.values()]\n",
        "  # print(pathLengths)\n",
        "  rangeList = [range(x) for x in pathLengths]\n",
        "  # print(rangeList)\n",
        "  lsts = list(itertools.product(*rangeList))\n",
        "  return lsts\n",
        "lsts = makeLsts(allPaths)\n",
        "print(lsts)\n",
        "# Now, lsts contains all possible pairs of lists to check against each other"
      ],
      "metadata": {
        "colab": {
          "base_uri": "https://localhost:8080/"
        },
        "id": "sIEqmNr5ngYY",
        "outputId": "f90a5c90-03fa-4240-f62f-795747284ea3"
      },
      "execution_count": null,
      "outputs": [
        {
          "output_type": "stream",
          "name": "stdout",
          "text": [
            "[(0, 0, 0, 0, 0), (0, 0, 0, 1, 0), (0, 0, 0, 2, 0), (1, 0, 0, 0, 0), (1, 0, 0, 1, 0), (1, 0, 0, 2, 0)]\n"
          ]
        }
      ]
    },
    {
      "cell_type": "code",
      "source": [
        "# So, we check if any of our lists work together\n",
        "# This returns the indices of the first set of working paths found\n",
        "def getIndices(allPaths, lsts, maxi):\n",
        "  for indices in lsts:\n",
        "    # Reform allPaths into list of lists with the chosen paths\n",
        "    currpaths = []\n",
        "    for i in range(len(allPaths)):\n",
        "      currpaths.append(allPaths[i + 1][indices[i]])\n",
        "    indfail = False\n",
        "    for i in range(maxi):\n",
        "      if not indfail:\n",
        "        timeslice = []\n",
        "        for j in range(len(currpaths)):\n",
        "          timeslice.append(currpaths[j][i])\n",
        "        # Compare number of bots with number of unique positions occupied,\n",
        "        # inequality means overlap, thus failure\n",
        "        if len(timeslice) != len(set(timeslice)):\n",
        "          # print(\"Failure on time\", i)\n",
        "          indfail = True\n",
        "    if not indfail:\n",
        "      return indices\n",
        "  # If nothing was returned by this point, we failed to match\n",
        "  raise Exception(\"No paths found\")\n",
        "indices = getIndices(allPaths, lsts, maxi)\n",
        "print(indices)"
      ],
      "metadata": {
        "colab": {
          "base_uri": "https://localhost:8080/"
        },
        "id": "im05VHlkrsJv",
        "outputId": "61358302-4ad2-4f54-e2a0-e6cd5ed16d23"
      },
      "execution_count": null,
      "outputs": [
        {
          "output_type": "stream",
          "name": "stdout",
          "text": [
            "(0, 0, 0, 0, 0)\n"
          ]
        }
      ]
    },
    {
      "cell_type": "code",
      "source": [
        "# Now that we know the paths, we can use this to generate movement instructions\n",
        "def getFinalPaths(allPaths, indices):\n",
        "  finalPaths = {}\n",
        "  for i in range(len(allPaths)):\n",
        "    finalPaths[i+1] = allPaths[i+1][indices[i]]\n",
        "  return finalPaths\n",
        "print(getFinalPaths(allPaths, indices))"
      ],
      "metadata": {
        "colab": {
          "base_uri": "https://localhost:8080/"
        },
        "id": "PDxePgRqIxgT",
        "outputId": "d9487045-2e9c-4592-b83e-f520b93da365"
      },
      "execution_count": null,
      "outputs": [
        {
          "output_type": "stream",
          "name": "stdout",
          "text": [
            "{1: [(0, 1), (1, 1), (1, 2), (1, 2)], 2: [(2, 3), (2, 2), (2, 2), (2, 2)], 3: [(3, 2), (3, 2), (3, 2), (3, 2)], 4: [(4, 0), (3, 0), (2, 0), (2, 1)], 5: [(4, 3), (3, 3), (2, 3), (2, 3)]}\n"
          ]
        }
      ]
    },
    {
      "cell_type": "code",
      "source": [
        "# Using final paths, make animation of bots moving\n",
        "import time\n",
        "import matplotlib.pyplot as plt\n",
        "\n",
        "finalPaths = getFinalPaths(allPaths, indices)\n",
        "\n",
        "# NOTE: animation needs to be given board dimensions\n",
        "def animation(finalPaths):\n",
        "  pathArr = [path for path in finalPaths.values()]\n",
        "  print(board)\n",
        "  for step in range(1, len(pathArr[0])):\n",
        "    newboard = np.zeros((5,5)).astype(int)\n",
        "    for bot in range(len(pathArr)):\n",
        "        row, col = pathArr[bot][step]\n",
        "        newboard[row, col] = 1\n",
        "    # clear_output(wait=True)\n",
        "    time.sleep(1)\n",
        "    print(newboard)\n",
        "\n",
        "def plotmaker(finalPaths):\n",
        "  pathArr = [path for path in finalPaths.values()]\n",
        "  # Convert to loop that produces single images, then save them\n",
        "  fig, ax = plt.subplots(1,len(pathArr[0]))\n",
        "  fig.set_size_inches(30,10)\n",
        "  ax[0].imshow(board, cmap='binary')\n",
        "  for step in range(len(pathArr[0])):\n",
        "    newboard = np.zeros((5,5)).astype(int)\n",
        "    for bot in range(len(pathArr)):\n",
        "        row, col = pathArr[bot][step]\n",
        "        oldrow, oldcol = pathArr[bot][step - 1]\n",
        "        newboard[row, col] = 1\n",
        "        if step != 0:\n",
        "          ax[step - 1].annotate('',\n",
        "              xy=(col, row), xycoords='data',\n",
        "              xytext=(oldcol, oldrow), textcoords='data',\n",
        "              arrowprops=dict(facecolor='red', shrink=0.05),\n",
        "              horizontalalignment='right', verticalalignment='top')\n",
        "    ax[step].imshow(newboard, cmap='binary')\n",
        "    ax[step].title.set_text('Time step ' + str(step))\n",
        "    # fig.savefig('demo_hori.png', transparent=True)\n",
        "\n",
        "animation(finalPaths)\n",
        "# plotmaker(finalPaths)\n",
        "# ['34111', '20110', '70128', '00060']\n",
        "# L4 R2 S3 N1"
      ],
      "metadata": {
        "id": "CfeWMzt6sino",
        "colab": {
          "base_uri": "https://localhost:8080/"
        },
        "outputId": "eaf525e9-3c07-458f-dad9-02ff9cdf6f3e"
      },
      "execution_count": null,
      "outputs": [
        {
          "output_type": "stream",
          "name": "stdout",
          "text": [
            "[[0 1 0 0 0]\n",
            " [0 0 0 0 0]\n",
            " [0 0 0 1 0]\n",
            " [0 0 1 0 0]\n",
            " [1 0 0 1 0]]\n",
            "[[0 0 0 0 0]\n",
            " [0 1 0 0 0]\n",
            " [0 0 1 0 0]\n",
            " [1 0 1 1 0]\n",
            " [0 0 0 0 0]]\n",
            "[[0 0 0 0 0]\n",
            " [0 0 1 0 0]\n",
            " [1 0 1 1 0]\n",
            " [0 0 1 0 0]\n",
            " [0 0 0 0 0]]\n",
            "[[0 0 0 0 0]\n",
            " [0 0 1 0 0]\n",
            " [0 1 1 1 0]\n",
            " [0 0 1 0 0]\n",
            " [0 0 0 0 0]]\n"
          ]
        }
      ]
    },
    {
      "cell_type": "code",
      "source": [
        "# Convert from finalPaths to BLE information\n",
        "\n",
        "# The following loops over time, increasin index for each path\n",
        "# First, for each bot, check current position v next position,\n",
        "# determine what direction we're moving\n",
        "# Then, in our output, in position corresponding to id, write direction as number\n",
        "def getBLEInstructions(finalPaths, maxi, finalTimes):\n",
        "  steplist = []\n",
        "  finals = []\n",
        "  for time in range(maxi):\n",
        "    direction = \"\"\n",
        "    justFinals = []\n",
        "    for ident in finalPaths:\n",
        "      # Getting issue where maxi > len(finalPaths[ident]),\n",
        "      # but those should be the same value\n",
        "      # print(\"maxi: \", maxi, \"finalPaths[ident]: \", finalPaths[ident])\n",
        "      # Need to fix these to row, col and rewrite direction as needed\n",
        "      srow, scol = finalPaths[ident][time]\n",
        "      if time != maxi - 1:\n",
        "        erow, ecol = finalPaths[ident][time + 1]\n",
        "      if time != maxi - 1 and scol > ecol: # LEFT\n",
        "        direction += '4'\n",
        "      elif time != maxi - 1 and scol < ecol: # RIGHT\n",
        "        direction += '2'\n",
        "      elif time != maxi - 1 and srow < erow: # SOUTH\n",
        "        direction += '3'\n",
        "      elif time != maxi - 1 and srow > scol: # NORTH\n",
        "        direction += '1'\n",
        "      else: # STATIONARY\n",
        "        direction += '0'\n",
        "\n",
        "# Does the original version even properly give enough instructions?\n",
        "\n",
        "        # Need some way of adding this latching as end step of longest path\n",
        "        # Could just add a duplicate end to the paths when making them?\n",
        "\n",
        "        # Also, test latching\n",
        "\n",
        "        if time == finalTimes[ident - 1] and ident not in finals: # If ident just performed final move\n",
        "          justFinals += [ident] # Store ident as reaching final position\n",
        "      for i in justFinals: # For each bot just reaching final position,\n",
        "        row, col = finalPaths[i][time]\n",
        "        for otherId in finals: # If touching a bot in final position,\n",
        "          # turn the face touching the other bot on to latch\n",
        "          otherRow, otherCol = finalPaths[otherId][time]\n",
        "          if otherRow - row == 1: # Other is south\n",
        "            direction = direction[:i-1] + '7' + direction[i:]\n",
        "          if otherRow - row == -1: # Other is north\n",
        "            direction = direction[:i-1] + '5' + direction[i:]\n",
        "          if otherCol - col == 1: # Other is right\n",
        "            direction = direction[:i-1] + '6' + direction[i:]\n",
        "          if otherCol - col == -1: # Other is left\n",
        "            direction = direction[:i-1] + '8' + direction[i:]\n",
        "        # Now that i is in final position, remove from arriving list,\n",
        "        # add to stationary list so other arriving bots can latch to it\n",
        "        justFinals.remove(i)\n",
        "        finals += [i]\n",
        "\n",
        "    # What datatype should direction be? String? bytearray?\n",
        "    # It's being read as a string, so if we send it as a string,\n",
        "    # then we get exactly what we want\n",
        "    # and can read char by char as desired\n",
        "    steplist += [direction]\n",
        "  return steplist\n",
        "\n",
        "\"\"\" OLD\n",
        "# Note, we use range(max-1) since we only need max-1 moves\n",
        "for time in range(max - 1):\n",
        "  direction = []\n",
        "  for id in finalPaths:\n",
        "    ys, xs = finalPaths[id][time]\n",
        "    ye, xe = finalPaths[id][time + 1]\n",
        "    if xs > xe: # LEFT\n",
        "      direction += [4]\n",
        "    elif xs < xe: # RIGHT\n",
        "      direction += [2]\n",
        "    elif ys < ye: # SOUTH\n",
        "      direction += [3]\n",
        "    elif ys > ye: # NORTH\n",
        "      direction += [1]\n",
        "    else: # STATIONARY\n",
        "      direction += [0]\n",
        "  print(direction)\n",
        "\"\"\"\n",
        "print(getBLEInstructions(finalPaths, maxi, finalTimes))"
      ],
      "metadata": {
        "colab": {
          "base_uri": "https://localhost:8080/"
        },
        "id": "raoPwDnxMrBS",
        "outputId": "f8ae735a-597a-4e3b-824f-8892b3bc8298"
      },
      "execution_count": null,
      "outputs": [
        {
          "output_type": "stream",
          "name": "stdout",
          "text": [
            "['34111', '20110', '70128', '00060']\n"
          ]
        }
      ]
    },
    {
      "cell_type": "code",
      "source": [
        "def getBLEInstructions(finalPaths, maxi):\n",
        "  steplist = []\n",
        "  for time in range(maxi - 1):\n",
        "    direction = \"\"\n",
        "    for ident in finalPaths:\n",
        "      # Getting issue where maxi > len(finalPaths[ident]),\n",
        "      # but those should be the same value\n",
        "      # print(\"maxi: \", maxi, \"finalPaths[ident]: \", finalPaths[ident])\n",
        "      # Need to fix these to row, col and rewrite direction as needed\n",
        "      srow, scol = finalPaths[ident][time]\n",
        "      erow, ecol = finalPaths[ident][time + 1]\n",
        "      if scol > ecol: # LEFT\n",
        "        direction += '4'\n",
        "      elif scol < ecol: # RIGHT\n",
        "        direction += '2'\n",
        "      elif srow < erow: # SOUTH\n",
        "        direction += '3'\n",
        "      elif srow > scol: # NORTH\n",
        "        direction += '1'\n",
        "      else: # STATIONARY\n",
        "        direction += '0'\n",
        "\n",
        "    # What datatype should direction be? String? bytearray?\n",
        "    # It's being read as a string, so if we send it as a string,\n",
        "    # then we get exactly what we want\n",
        "    # and can read char by char as desired\n",
        "    steplist += [direction]\n",
        "  return steplist\n",
        "print(getBLEInstructions(finalPaths, maxi))"
      ],
      "metadata": {
        "id": "y-v-NUNy10AY",
        "colab": {
          "base_uri": "https://localhost:8080/"
        },
        "outputId": "a9f8fba7-ab28-42bc-9db1-5feb61da4c6e"
      },
      "execution_count": null,
      "outputs": [
        {
          "output_type": "stream",
          "name": "stdout",
          "text": [
            "['34111', '20110', '00120']\n"
          ]
        }
      ]
    },
    {
      "cell_type": "code",
      "source": [
        "# Sending via bluetooth:\n",
        "# Make sure IDs of each bot in this notebook and on bots match\n",
        "  # ^^ Need to manually place/check? Since we don't have relative position botside\n",
        "# Look at the direction each bot will move in\n",
        "# Publish to characteristic a message where direction is 00,01,10,11\n",
        "  # and bot to move that direction is position ID in the message\n",
        "# (This condenses all relevant information into most concise format)"
      ],
      "metadata": {
        "id": "3EkpaRjlK_Y1"
      },
      "execution_count": null,
      "outputs": []
    },
    {
      "cell_type": "code",
      "source": [
        "# Here's a black box for the whole process\n",
        "# Takes in startboard, endboard, returns dict from startid to path\n",
        "def blackbox(startboard, endboard):\n",
        "  startlist = convert_board(startboard, False)\n",
        "  endlist = convert_board(endboard, True)\n",
        "  distlist = find_dists(startlist, endlist)\n",
        "  distarr = np.array([distlist[key + 1] for key in range(len(distlist))]).T\n",
        "  distarr = np.asarray([list(row.values()) for row in distarr])\n",
        "  mins = minsum(distarr)\n",
        "  goals = convert_goals(mins, endlist)\n",
        "  allPaths = getAllPaths(startlist, goals)\n",
        "  maxi = convertAllPaths(allPaths)\n",
        "  lsts = makeLsts(allPaths)\n",
        "  indices = getIndices(allPaths, lsts, maxi)\n",
        "  finalPaths = getFinalPaths(allPaths, indices)\n",
        "  steplist = getBLEInstructions(finalPaths, maxi)\n",
        "  # Change using indices -> paths\n",
        "  return finalPaths\n",
        "  # return steplist"
      ],
      "metadata": {
        "id": "58HD7VvCJJT7"
      },
      "execution_count": null,
      "outputs": []
    },
    {
      "cell_type": "code",
      "source": [
        "def rando_test(rows, cols, bots, iters):\n",
        "  count = 0\n",
        "  for i in range(iters):\n",
        "    startboard = np.asarray(gen_board(rows, cols, bots))\n",
        "    endboard = np.asarray(gen_board(rows, cols, bots))\n",
        "    try:\n",
        "      blackbox(startboard, endboard)\n",
        "    except (RuntimeError, IndexError, TypeError, Exception):\n",
        "      count += 1\n",
        "  return count"
      ],
      "metadata": {
        "id": "AB1vVRiiwFgg"
      },
      "execution_count": null,
      "outputs": []
    },
    {
      "cell_type": "code",
      "source": [
        "results = {}\n",
        "for i in range(2,7):\n",
        "  start = time.time()\n",
        "  results[i] = rando_test(5, 5, i, 100000) / 1000\n",
        "  print(i, time.time() - start)\n",
        "print(results)"
      ],
      "metadata": {
        "colab": {
          "base_uri": "https://localhost:8080/",
          "height": 408
        },
        "id": "B-IFUTQq3JXK",
        "outputId": "b6f02dde-c5d7-4865-e8c5-5a6c3d8fc69e"
      },
      "execution_count": null,
      "outputs": [
        {
          "output_type": "stream",
          "name": "stdout",
          "text": [
            "2 34.768983125686646\n",
            "3 18.617435932159424\n",
            "4 19.203888177871704\n"
          ]
        },
        {
          "output_type": "error",
          "ename": "KeyboardInterrupt",
          "evalue": "",
          "traceback": [
            "\u001b[0;31m---------------------------------------------------------------------------\u001b[0m",
            "\u001b[0;31mKeyboardInterrupt\u001b[0m                         Traceback (most recent call last)",
            "\u001b[0;32m<ipython-input-34-1dda3408b61d>\u001b[0m in \u001b[0;36m<cell line: 2>\u001b[0;34m()\u001b[0m\n\u001b[1;32m      2\u001b[0m \u001b[0;32mfor\u001b[0m \u001b[0mi\u001b[0m \u001b[0;32min\u001b[0m \u001b[0mrange\u001b[0m\u001b[0;34m(\u001b[0m\u001b[0;36m2\u001b[0m\u001b[0;34m,\u001b[0m\u001b[0;36m7\u001b[0m\u001b[0;34m)\u001b[0m\u001b[0;34m:\u001b[0m\u001b[0;34m\u001b[0m\u001b[0;34m\u001b[0m\u001b[0m\n\u001b[1;32m      3\u001b[0m   \u001b[0mstart\u001b[0m \u001b[0;34m=\u001b[0m \u001b[0mtime\u001b[0m\u001b[0;34m.\u001b[0m\u001b[0mtime\u001b[0m\u001b[0;34m(\u001b[0m\u001b[0;34m)\u001b[0m\u001b[0;34m\u001b[0m\u001b[0;34m\u001b[0m\u001b[0m\n\u001b[0;32m----> 4\u001b[0;31m   \u001b[0mresults\u001b[0m\u001b[0;34m[\u001b[0m\u001b[0mi\u001b[0m\u001b[0;34m]\u001b[0m \u001b[0;34m=\u001b[0m \u001b[0mrando_test\u001b[0m\u001b[0;34m(\u001b[0m\u001b[0;36m5\u001b[0m\u001b[0;34m,\u001b[0m \u001b[0;36m5\u001b[0m\u001b[0;34m,\u001b[0m \u001b[0mi\u001b[0m\u001b[0;34m,\u001b[0m \u001b[0;36m100000\u001b[0m\u001b[0;34m)\u001b[0m \u001b[0;34m/\u001b[0m \u001b[0;36m1000\u001b[0m\u001b[0;34m\u001b[0m\u001b[0;34m\u001b[0m\u001b[0m\n\u001b[0m\u001b[1;32m      5\u001b[0m   \u001b[0mprint\u001b[0m\u001b[0;34m(\u001b[0m\u001b[0mi\u001b[0m\u001b[0;34m,\u001b[0m \u001b[0mtime\u001b[0m\u001b[0;34m.\u001b[0m\u001b[0mtime\u001b[0m\u001b[0;34m(\u001b[0m\u001b[0;34m)\u001b[0m \u001b[0;34m-\u001b[0m \u001b[0mstart\u001b[0m\u001b[0;34m)\u001b[0m\u001b[0;34m\u001b[0m\u001b[0;34m\u001b[0m\u001b[0m\n\u001b[1;32m      6\u001b[0m \u001b[0mprint\u001b[0m\u001b[0;34m(\u001b[0m\u001b[0mresults\u001b[0m\u001b[0;34m)\u001b[0m\u001b[0;34m\u001b[0m\u001b[0;34m\u001b[0m\u001b[0m\n",
            "\u001b[0;32m<ipython-input-33-1a862ae7255c>\u001b[0m in \u001b[0;36mrando_test\u001b[0;34m(rows, cols, bots, iters)\u001b[0m\n\u001b[1;32m      5\u001b[0m     \u001b[0mendboard\u001b[0m \u001b[0;34m=\u001b[0m \u001b[0mnp\u001b[0m\u001b[0;34m.\u001b[0m\u001b[0masarray\u001b[0m\u001b[0;34m(\u001b[0m\u001b[0mgen_board\u001b[0m\u001b[0;34m(\u001b[0m\u001b[0mrows\u001b[0m\u001b[0;34m,\u001b[0m \u001b[0mcols\u001b[0m\u001b[0;34m,\u001b[0m \u001b[0mbots\u001b[0m\u001b[0;34m)\u001b[0m\u001b[0;34m)\u001b[0m\u001b[0;34m\u001b[0m\u001b[0;34m\u001b[0m\u001b[0m\n\u001b[1;32m      6\u001b[0m     \u001b[0;32mtry\u001b[0m\u001b[0;34m:\u001b[0m\u001b[0;34m\u001b[0m\u001b[0;34m\u001b[0m\u001b[0m\n\u001b[0;32m----> 7\u001b[0;31m       \u001b[0mblackbox\u001b[0m\u001b[0;34m(\u001b[0m\u001b[0mstartboard\u001b[0m\u001b[0;34m,\u001b[0m \u001b[0mendboard\u001b[0m\u001b[0;34m)\u001b[0m\u001b[0;34m\u001b[0m\u001b[0;34m\u001b[0m\u001b[0m\n\u001b[0m\u001b[1;32m      8\u001b[0m     \u001b[0;32mexcept\u001b[0m \u001b[0;34m(\u001b[0m\u001b[0mRuntimeError\u001b[0m\u001b[0;34m,\u001b[0m \u001b[0mIndexError\u001b[0m\u001b[0;34m,\u001b[0m \u001b[0mTypeError\u001b[0m\u001b[0;34m,\u001b[0m \u001b[0mException\u001b[0m\u001b[0;34m)\u001b[0m\u001b[0;34m:\u001b[0m\u001b[0;34m\u001b[0m\u001b[0;34m\u001b[0m\u001b[0m\n\u001b[1;32m      9\u001b[0m       \u001b[0mcount\u001b[0m \u001b[0;34m+=\u001b[0m \u001b[0;36m1\u001b[0m\u001b[0;34m\u001b[0m\u001b[0;34m\u001b[0m\u001b[0m\n",
            "\u001b[0;32m<ipython-input-32-6787f7499699>\u001b[0m in \u001b[0;36mblackbox\u001b[0;34m(startboard, endboard)\u001b[0m\n\u001b[1;32m      7\u001b[0m   \u001b[0mdistarr\u001b[0m \u001b[0;34m=\u001b[0m \u001b[0mnp\u001b[0m\u001b[0;34m.\u001b[0m\u001b[0marray\u001b[0m\u001b[0;34m(\u001b[0m\u001b[0;34m[\u001b[0m\u001b[0mdistlist\u001b[0m\u001b[0;34m[\u001b[0m\u001b[0mkey\u001b[0m \u001b[0;34m+\u001b[0m \u001b[0;36m1\u001b[0m\u001b[0;34m]\u001b[0m \u001b[0;32mfor\u001b[0m \u001b[0mkey\u001b[0m \u001b[0;32min\u001b[0m \u001b[0mrange\u001b[0m\u001b[0;34m(\u001b[0m\u001b[0mlen\u001b[0m\u001b[0;34m(\u001b[0m\u001b[0mdistlist\u001b[0m\u001b[0;34m)\u001b[0m\u001b[0;34m)\u001b[0m\u001b[0;34m]\u001b[0m\u001b[0;34m)\u001b[0m\u001b[0;34m.\u001b[0m\u001b[0mT\u001b[0m\u001b[0;34m\u001b[0m\u001b[0;34m\u001b[0m\u001b[0m\n\u001b[1;32m      8\u001b[0m   \u001b[0mdistarr\u001b[0m \u001b[0;34m=\u001b[0m \u001b[0mnp\u001b[0m\u001b[0;34m.\u001b[0m\u001b[0masarray\u001b[0m\u001b[0;34m(\u001b[0m\u001b[0;34m[\u001b[0m\u001b[0mlist\u001b[0m\u001b[0;34m(\u001b[0m\u001b[0mrow\u001b[0m\u001b[0;34m.\u001b[0m\u001b[0mvalues\u001b[0m\u001b[0;34m(\u001b[0m\u001b[0;34m)\u001b[0m\u001b[0;34m)\u001b[0m \u001b[0;32mfor\u001b[0m \u001b[0mrow\u001b[0m \u001b[0;32min\u001b[0m \u001b[0mdistarr\u001b[0m\u001b[0;34m]\u001b[0m\u001b[0;34m)\u001b[0m\u001b[0;34m\u001b[0m\u001b[0;34m\u001b[0m\u001b[0m\n\u001b[0;32m----> 9\u001b[0;31m   \u001b[0mmins\u001b[0m \u001b[0;34m=\u001b[0m \u001b[0mminsum\u001b[0m\u001b[0;34m(\u001b[0m\u001b[0mdistarr\u001b[0m\u001b[0;34m)\u001b[0m\u001b[0;34m\u001b[0m\u001b[0;34m\u001b[0m\u001b[0m\n\u001b[0m\u001b[1;32m     10\u001b[0m   \u001b[0mgoals\u001b[0m \u001b[0;34m=\u001b[0m \u001b[0mconvert_goals\u001b[0m\u001b[0;34m(\u001b[0m\u001b[0mmins\u001b[0m\u001b[0;34m,\u001b[0m \u001b[0mendlist\u001b[0m\u001b[0;34m)\u001b[0m\u001b[0;34m\u001b[0m\u001b[0;34m\u001b[0m\u001b[0m\n\u001b[1;32m     11\u001b[0m   \u001b[0mallPaths\u001b[0m \u001b[0;34m=\u001b[0m \u001b[0mgetAllPaths\u001b[0m\u001b[0;34m(\u001b[0m\u001b[0mstartlist\u001b[0m\u001b[0;34m,\u001b[0m \u001b[0mgoals\u001b[0m\u001b[0;34m)\u001b[0m\u001b[0;34m\u001b[0m\u001b[0;34m\u001b[0m\u001b[0m\n",
            "\u001b[0;32m<ipython-input-16-532ab649962a>\u001b[0m in \u001b[0;36mminsum\u001b[0;34m(arr)\u001b[0m\n\u001b[1;32m     16\u001b[0m         \u001b[0;32mbreak\u001b[0m\u001b[0;34m\u001b[0m\u001b[0;34m\u001b[0m\u001b[0m\n\u001b[1;32m     17\u001b[0m     \u001b[0;31m# If perm has smaller sum than min, store new min sum and permutation\u001b[0m\u001b[0;34m\u001b[0m\u001b[0;34m\u001b[0m\u001b[0m\n\u001b[0;32m---> 18\u001b[0;31m     \u001b[0;32mif\u001b[0m \u001b[0mtotal\u001b[0m \u001b[0;34m<\u001b[0m \u001b[0mmini\u001b[0m\u001b[0;34m:\u001b[0m\u001b[0;34m\u001b[0m\u001b[0;34m\u001b[0m\u001b[0m\n\u001b[0m\u001b[1;32m     19\u001b[0m       \u001b[0mmini\u001b[0m \u001b[0;34m=\u001b[0m \u001b[0mtotal\u001b[0m\u001b[0;34m\u001b[0m\u001b[0;34m\u001b[0m\u001b[0m\n\u001b[1;32m     20\u001b[0m       \u001b[0mminperm\u001b[0m \u001b[0;34m=\u001b[0m \u001b[0mperm\u001b[0m\u001b[0;34m\u001b[0m\u001b[0;34m\u001b[0m\u001b[0m\n",
            "\u001b[0;31mKeyboardInterrupt\u001b[0m: "
          ]
        }
      ]
    },
    {
      "cell_type": "code",
      "source": [
        "plt.plot(results.keys(), results.values())\n",
        "plt.title(\"Percentage of random pathfinding trials failed; 100,000 trials on 5x5 grid\")\n",
        "plt.ylabel(\"Percentage of trials failed, 100,000 trials\")\n",
        "plt.xlabel(\"Bots\")\n",
        "plt.xticks([2,3,4,5,6])\n",
        "plt.show()"
      ],
      "metadata": {
        "id": "4hrkYzUJ78gi"
      },
      "execution_count": null,
      "outputs": []
    },
    {
      "cell_type": "code",
      "source": [
        "for i in range(100000):\n",
        "  startboard = np.asarray(gen_board(5, 5, 3))\n",
        "  endboard = np.asarray(gen_board(5, 5, 3))\n",
        "  try:\n",
        "    blackbox(startboard, endboard)\n",
        "  except (RuntimeError, IndexError, TypeError, Exception):\n",
        "    count += 1\n",
        "    savestartboard = startboard\n",
        "    saveendboard = endboard\n",
        "    print(i)\n",
        "    raise"
      ],
      "metadata": {
        "id": "myp7k8ta3M0R"
      },
      "execution_count": null,
      "outputs": []
    },
    {
      "cell_type": "code",
      "source": [
        "print(savestartboard)\n",
        "print(saveendboard)\n",
        "print(blackbox(savestartboard, saveendboard))"
      ],
      "metadata": {
        "id": "CkOQ_dvtxCxa"
      },
      "execution_count": null,
      "outputs": []
    },
    {
      "cell_type": "code",
      "source": [
        "startboard = np.asarray(gen_board(5, 5, 9))\n",
        "endboard = np.asarray(gen_board(5, 5, 9))\n",
        "print(startboard)\n",
        "print(endboard)\n",
        "finalPathTest = blackbox(startboard, endboard)\n",
        "print(finalPathTest)\n",
        "# We're probably having issues with given randomly generated boards\n",
        "# Split the board generation and blackbox into two cells,\n",
        "# use that to generate problematic boards and test\n",
        "\n",
        "# Use random generation for different bot numbers and board sizes"
      ],
      "metadata": {
        "id": "ZZzxwnduTS1y"
      },
      "execution_count": null,
      "outputs": []
    },
    {
      "cell_type": "code",
      "source": [
        "animation(finalPathTest)"
      ],
      "metadata": {
        "id": "311BZ2b0yQs6"
      },
      "execution_count": null,
      "outputs": []
    },
    {
      "cell_type": "code",
      "source": [
        "print(blackbox(startboard, endboard))\n",
        "# animation(blackbox(startboard, endboard))"
      ],
      "metadata": {
        "id": "OTA2am3EMx8w"
      },
      "execution_count": null,
      "outputs": []
    },
    {
      "cell_type": "markdown",
      "source": [
        "<h1>OLD CODE</h1>"
      ],
      "metadata": {
        "id": "z78ECRxvycDy"
      }
    },
    {
      "cell_type": "code",
      "execution_count": null,
      "metadata": {
        "id": "ZULD3FX1tYdE"
      },
      "outputs": [],
      "source": [
        "# We can probably phase this out for speed at some point\n",
        "\n",
        "# Class for bots; we use these to track where to go\n",
        "class Bot:\n",
        "  def __init__(self, xpos, ypos, id):\n",
        "    self.xpos = xpos\n",
        "    self.ypos = ypos\n",
        "    self.id = id\n",
        "    self.hasorders = False\n",
        "    # self.closestdist = -1"
      ]
    },
    {
      "cell_type": "code",
      "source": [
        "def find_closest_dists(distlist):\n",
        "  ind_list = []\n",
        "  for lst in distlist:\n",
        "    small1, small2 = two_smallest(lst) # two_smallest gets two smallest vals of lst\n",
        "    ind1 = lst.index(small1)\n",
        "    start = 0\n",
        "    if small1 == small2:\n",
        "      start = ind1+1\n",
        "    ind2 = lst.index(small2, start)\n",
        "    ind_list.append((ind1, ind2))\n",
        "  return ind_list"
      ],
      "metadata": {
        "id": "J2-2hhAOaYDs"
      },
      "execution_count": null,
      "outputs": []
    },
    {
      "cell_type": "code",
      "source": [
        "print(find_closest_dists(distlist))\n",
        "# Need to somehow convert to finding smallest indices of each list\n",
        "# Can assume 0,1,2,3,4 for now to work on other functionality"
      ],
      "metadata": {
        "id": "w0QM5pmVcfw0"
      },
      "execution_count": null,
      "outputs": []
    },
    {
      "cell_type": "code",
      "source": [
        "# Rather than make an array of bots, faster to just list of bots and positions\n",
        "# The list of bots only used to perform operations when bot class exists\n",
        "\n",
        "# Given an array of 1/0, convert to bot/empty\n",
        "# Returns converted board and ordered list of bots, left to right, top to bottom\n",
        "def convert_board(board, xsize, ysize):\n",
        "  id = 0\n",
        "  botlist = []\n",
        "  newboard = [[0]*xsize for i in range(ysize)]\n",
        "  for row in range(ysize):\n",
        "    for col in range(xsize):\n",
        "      if board[row, col] == 1:\n",
        "        bot = Bot(col, row, id)\n",
        "        newboard[row][col] = bot\n",
        "        id += 1\n",
        "        botlist.append(bot)\n",
        "      else:\n",
        "        newboard[row][col] = None\n",
        "  return newboard, botlist"
      ],
      "metadata": {
        "id": "Zh0q1sdh0Mkc"
      },
      "execution_count": null,
      "outputs": []
    },
    {
      "cell_type": "code",
      "source": [
        "# Once bots have closest place to go to, loop through bots,\n",
        "  # do a move in positive direction\n",
        "\n",
        "# There is no mechanism for a bot that gets stuck; need to add that later\n",
        "# Though, that could also be handled in pathing stage\n",
        "def perform_move(poslist, endlist, distlist):\n",
        "  # step_count exclusively to track performance\n",
        "  step_count = 0\n",
        "  while(poslist is not endlist):\n",
        "    step_count += 1\n",
        "    for i in range(len(poslist)):\n",
        "      # The move:\n",
        "      # ith starting position\n",
        "      pos = poslist[i]\n",
        "      # distlist[i] = index of end pos for bot i\n",
        "      end = endlist[distlist[i]]\n",
        "      if pos is not end:\n",
        "        sx, sy = pos\n",
        "        ex, ey = end\n",
        "        if sx < ex and (sx+1, sy) not in poslist:\n",
        "          poslist[i] = (sx+1, sy)\n",
        "        elif sx > ex and (sx-1, sy) not in poslist:\n",
        "          poslist[i] = (sx-1, sy)\n",
        "        elif sy < ey and (sx, sy+1) not in poslist:\n",
        "          poslist[i] = (sx, sy+1)\n",
        "        elif sy > ey and (sx, sy-1) not in poslist:\n",
        "          poslist[i] = (sx, sy-1)"
      ],
      "metadata": {
        "id": "mZ3HwMOH4t-T"
      },
      "execution_count": null,
      "outputs": []
    },
    {
      "cell_type": "code",
      "source": [
        "# Pretty sure this is exact code for itertools.product\n",
        "\n",
        "def product(arr):\n",
        "  pools = [tuple(pool) for pool in arr]\n",
        "  result = [[]]\n",
        "  for pool in pools:\n",
        "    result = [x+[y] for x in result for y in pool]\n",
        "  for prod in result:\n",
        "    yield tuple(prod)"
      ],
      "metadata": {
        "id": "aPZNHBBTVplI"
      },
      "execution_count": null,
      "outputs": []
    },
    {
      "cell_type": "code",
      "source": [
        "# Given dict of list of lists of possible paths for each bot,\n",
        "# brute force find first path with no collisions\n",
        "def find_best_path(paths):\n",
        "  return\n",
        "  # (Maybe) better idea: take two bots, remove all collision paths\n",
        "  # Then, add third bot and calculate with reduced path list\n",
        "  # for bots in range(2,paths.items().len+1):\n",
        "\n",
        "  # OR, OVA? But then we can't figure out what path to remove\n",
        "\n",
        "  # Problem: Collision happens from pair of paths,\n",
        "  # but we have no way of knowing if either path is good elsewhere\n",
        "  # Maybe then we need to do more brute force?\n",
        "\n",
        "  # OVO to condense length could work?\n",
        "  # So, bot i and i+1 compare, keep only path combos with no collisions\n",
        "  # Then, we have list of tuples of positions, compare to other list of tuples?\n",
        "\n",
        "  # Could also do:\n",
        "  # Organize paths based on current locations; i.e.,\n",
        "  # make groups for each bot and compare those groups with other bots\n",
        "  # Instead of checking 12 paths with pos (x1,x2) with 13 paths with pos (y1,y2),\n",
        "  # we check if (x1,x2)==(y1,y2) and judge the whole group from that"
      ],
      "metadata": {
        "id": "KAKaqZvrUQQj"
      },
      "execution_count": null,
      "outputs": []
    },
    {
      "cell_type": "code",
      "source": [
        "# currpos is dict from id to current position\n",
        "# goals is dict from id to end position\n",
        "def perform_move(currpos, goals):\n",
        "  # From current position, move each bot one position towards end goal\n",
        "\n",
        "  # Keep list of new positions for each bot,\n",
        "  # before actually moving, check for duplicate values,\n",
        "  # Unlikely to be triples (maybe ignore for now?)\n",
        "  # determine which direction is best for each bot (how?)\n",
        "\n",
        "  # Inevitably, we'll have issue where we go the wrong way\n",
        "  # Ex: bot top left to center, goes right first, should go down first\n",
        "  return\n",
        "  # Generate board from newpos after movement"
      ],
      "metadata": {
        "id": "0DBqk1H-Ayld"
      },
      "execution_count": null,
      "outputs": []
    },
    {
      "cell_type": "code",
      "source": [
        "# Actual movement loop\n",
        "goals = convert_goals(minsum(arr), endlist)\n",
        "\n",
        "# When going into application, add waits to allow for acutation time"
      ],
      "metadata": {
        "id": "kK_8qls-EXgO"
      },
      "execution_count": null,
      "outputs": []
    }
  ]
}