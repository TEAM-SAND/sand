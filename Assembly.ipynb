{
  "nbformat": 4,
  "nbformat_minor": 0,
  "metadata": {
    "colab": {
      "provenance": []
    },
    "kernelspec": {
      "name": "python3",
      "display_name": "Python 3"
    },
    "language_info": {
      "name": "python"
    }
  },
  "cells": [
    {
      "cell_type": "code",
      "source": [
        "# TODO:\n",
        "# Prove whether or not current method actually works,\n",
        "# collision avoidance, termination, etc.\n",
        "# AND / OR\n",
        "# Write movement step code\n",
        "# Use random boards as 'proof' of concept\n",
        "\n",
        "# Get perform move working\n",
        "# Representation of paths in code\n",
        "# -> transition towards pre-calculating paths\n",
        "\n",
        "# For 3d - assemble first layer into sheet, then do second on top\n",
        "\n",
        "# At some point, must get conversion between startid and local botid;\n",
        "# possibly from manual setup in desired locations\n",
        "# (since we can't currently get position from bot)\n",
        "\n",
        "# GO THROUGH ENTIRE PROJECT AND DOUBLE CHECK:\n",
        "# ARE XPOS, YPOS, ROW, COL APPROPRIATELY DONE FOR BOARDS"
      ],
      "metadata": {
        "id": "J23IXP0oY-1Y"
      },
      "execution_count": null,
      "outputs": []
    },
    {
      "cell_type": "markdown",
      "source": [
        "<h1>Setup</h1>"
      ],
      "metadata": {
        "id": "pCzeOObhy8Ok"
      }
    },
    {
      "cell_type": "code",
      "source": [
        "import numpy as np\n",
        "import itertools\n",
        "import random"
      ],
      "metadata": {
        "id": "SkLPsfWrvEpg"
      },
      "execution_count": null,
      "outputs": []
    },
    {
      "cell_type": "code",
      "source": [
        "# Setup\n",
        "xsize = 5\n",
        "ysize = 5\n",
        "size = (xsize, ysize)\n",
        "\n",
        "board = [[0,1,0,0,0],[0]*5,[0,0,0,1,0],[0,0,1,0,0],[1,0,0,1,0]]\n",
        "board = np.asarray(board)\n",
        "print(board)"
      ],
      "metadata": {
        "colab": {
          "base_uri": "https://localhost:8080/"
        },
        "id": "oOHC67bSusIz",
        "outputId": "875f7c4c-d632-4e22-d57b-6b87fca65729"
      },
      "execution_count": null,
      "outputs": [
        {
          "output_type": "stream",
          "name": "stdout",
          "text": [
            "[[0 1 0 0 0]\n",
            " [0 0 0 0 0]\n",
            " [0 0 0 1 0]\n",
            " [0 0 1 0 0]\n",
            " [1 0 0 1 0]]\n"
          ]
        }
      ]
    },
    {
      "cell_type": "code",
      "source": [
        "# Randomly generate a board\n",
        "\n",
        "def gen_board(xsize, ysize, bots):\n",
        "  # Random ints between 0 and x*y-1, format to array\n",
        "  startlocs = random.sample(range(xsize * ysize), bots)\n",
        "  board = []\n",
        "  for row in range(ysize):\n",
        "    board.append([0] * xsize)\n",
        "  row, col = 0, 0\n",
        "  for val in list(startlocs):\n",
        "    # Would be faster to do division with remainder to get row, val\n",
        "    while val >= xsize:\n",
        "      row += 1\n",
        "      val -= xsize\n",
        "    col = val\n",
        "    board[row][col] = 1\n",
        "    row, col = 0, 0\n",
        "  return board"
      ],
      "metadata": {
        "id": "9H_uW5vQ7k1G"
      },
      "execution_count": null,
      "outputs": []
    },
    {
      "cell_type": "code",
      "source": [
        "print(np.asarray(gen_board(5, 5, 5)))"
      ],
      "metadata": {
        "colab": {
          "base_uri": "https://localhost:8080/"
        },
        "id": "Z3ggpsOkipCh",
        "outputId": "9fead53e-084c-438b-ffce-9b11f286e497"
      },
      "execution_count": null,
      "outputs": [
        {
          "output_type": "stream",
          "name": "stdout",
          "text": [
            "[[0 1 0 0 0]\n",
            " [0 0 0 0 0]\n",
            " [0 0 0 0 0]\n",
            " [0 0 0 1 0]\n",
            " [1 1 1 0 0]]\n"
          ]
        }
      ]
    },
    {
      "cell_type": "code",
      "source": [
        "# Create an ending board manually; a cross in the middle\n",
        "end_board = [ [0]*5, [0,0,1,0,0], [0,1,1,1,0], [0,0,1,0,0], [0]*5]\n",
        "end_board = np.asarray(end_board)\n",
        "print(end_board)"
      ],
      "metadata": {
        "colab": {
          "base_uri": "https://localhost:8080/"
        },
        "id": "wnaZNzy0ynQo",
        "outputId": "d4162379-c91c-4037-a70b-8fc85d76b37a"
      },
      "execution_count": null,
      "outputs": [
        {
          "output_type": "stream",
          "name": "stdout",
          "text": [
            "[[0 0 0 0 0]\n",
            " [0 0 1 0 0]\n",
            " [0 1 1 1 0]\n",
            " [0 0 1 0 0]\n",
            " [0 0 0 0 0]]\n"
          ]
        }
      ]
    },
    {
      "cell_type": "code",
      "source": [
        "# Loop through board, cols then rows, finding 1's, id of order found in to (x, y)\n",
        "# If isend, id's scale in 10s instead of 1s for convenience?\n",
        "\n",
        "# Scaling id by 10 this way only works when less than 10 bots\n",
        "\n",
        "# NOTE: IF WE CHANGE startids FROM BEING 1,2,3,...\n",
        "# THEN MANY LOOPS LATER IN THE CODE WILL BREAK\n",
        "# (often loop through tuple 0,1,2... and through dict 0+1,1+1,2+1,...)\n",
        "def convert_board(board, isend):\n",
        "  id = 1\n",
        "  if isend:\n",
        "    id = 10\n",
        "  botpos = {}\n",
        "  for row in range(len(board)):\n",
        "    for col in range(len(board[0])):\n",
        "      if board[row, col] == 1:\n",
        "        botpos[id] = (row, col)\n",
        "        id += 1\n",
        "        if isend:\n",
        "          id += 9\n",
        "  return botpos"
      ],
      "metadata": {
        "id": "I_FskMpGvnFy"
      },
      "execution_count": null,
      "outputs": []
    },
    {
      "cell_type": "code",
      "source": [
        "startlist = convert_board(board, False)\n",
        "print(startlist)\n",
        "endlist = convert_board(end_board, True)\n",
        "print(endlist)"
      ],
      "metadata": {
        "colab": {
          "base_uri": "https://localhost:8080/"
        },
        "id": "UkGKOZrvX6Uc",
        "outputId": "6865d4d1-7d14-4a76-8be0-da804f84b6a9"
      },
      "execution_count": null,
      "outputs": [
        {
          "output_type": "stream",
          "name": "stdout",
          "text": [
            "{1: (0, 1), 2: (2, 3), 3: (3, 2), 4: (4, 0), 5: (4, 3)}\n",
            "{10: (1, 2), 20: (2, 1), 30: (2, 2), 40: (2, 3), 50: (3, 2)}\n"
          ]
        }
      ]
    },
    {
      "cell_type": "code",
      "source": [
        "# For each bot position, find distance to each end position\n",
        "# Returns dict of startid to dict of endid to distance from startpos to endpos\n",
        "def find_dists(startlist, endlist):\n",
        "  dists = {}\n",
        "  for sid in startlist:\n",
        "    newlist = {}\n",
        "    stxpos, stypos = startlist[sid]\n",
        "    for eid in endlist:\n",
        "      endxpos, endypos = endlist[eid]\n",
        "      # Distance is difference in x coord + difference in y coord\n",
        "      newlist[eid] = abs(endxpos - stxpos) + abs(endypos - stypos)\n",
        "    dists[sid] = newlist\n",
        "  return dists"
      ],
      "metadata": {
        "id": "XOwc1_QWYqPt"
      },
      "execution_count": null,
      "outputs": []
    },
    {
      "cell_type": "code",
      "source": [
        "distlist = find_dists(startlist, endlist)\n",
        "print(distlist)"
      ],
      "metadata": {
        "colab": {
          "base_uri": "https://localhost:8080/"
        },
        "id": "i95UY92gZTdM",
        "outputId": "7ad06fee-02b4-46c4-8e99-93d6cca5fe18"
      },
      "execution_count": null,
      "outputs": [
        {
          "output_type": "stream",
          "name": "stdout",
          "text": [
            "{1: {10: 2, 20: 2, 30: 3, 40: 4, 50: 4}, 2: {10: 2, 20: 2, 30: 1, 40: 0, 50: 2}, 3: {10: 2, 20: 2, 30: 1, 40: 2, 50: 0}, 4: {10: 5, 20: 3, 30: 4, 40: 5, 50: 3}, 5: {10: 4, 20: 4, 30: 3, 40: 2, 50: 2}}\n"
          ]
        }
      ]
    },
    {
      "cell_type": "markdown",
      "source": [
        "<h1>Pathfinding</h1>"
      ],
      "metadata": {
        "id": "Nv71upjq2SAa"
      }
    },
    {
      "cell_type": "code",
      "source": [
        "# Figure out more efficient pathfinding\n",
        "# Ideas:\n",
        "# Zero distance is probably better off moving out of the way of another\n",
        "# If we can calculate minimum sum across permutations of ids, then we might be able to find that\n",
        "# ^^ Might solve the issue above, but want to prove\n",
        "# Also, need to write the code for it"
      ],
      "metadata": {
        "id": "NjEzhS7n2Z_D"
      },
      "execution_count": null,
      "outputs": []
    },
    {
      "cell_type": "code",
      "source": [
        "# Given 2d array, where each row is a starting position and each column is\n",
        "  # distance to a given end position,\n",
        "# want to find unique columns for each row such that the sum\n",
        "  # of the distances is minimized\n",
        "# Could brute force by checking each permutation, but that runs in n factorial\n",
        "  # (size of S_n) which is absurd\n",
        "# Is it possible to make divide and conquer work?\n",
        "# Feels like no, since we could easily get overlap:\n",
        "# [ [1, 2, 3, 4], [2, 1, 3, 4], [0, 5, 1, 2], [1, 4, 3, 2] ]\n",
        "  # has overlapping indices regardless of splitting rows or cols\n",
        "  # (Splitting cols gives indices 0, 1 : 0, 3 OR 2, 0;\n",
        "    # splitting rows gives indices 2, 1 : 2, 3)"
      ],
      "metadata": {
        "id": "te0pXLE53Qcq"
      },
      "execution_count": null,
      "outputs": []
    },
    {
      "cell_type": "code",
      "source": [
        "# One possible method (still computationally expensive)\n",
        "# Transform dict of dict into array of dict\n",
        "distarr = np.array([distlist[key + 1] for key in range(xsize)]).T\n",
        "# Transform array of dict into array of array\n",
        "distarr = np.asarray([list(row.values()) for row in distarr])\n",
        "print(distarr)\n",
        "# Now arr is 2d array, where (i, j) = (i+1, (j+1)*10)"
      ],
      "metadata": {
        "colab": {
          "base_uri": "https://localhost:8080/"
        },
        "id": "Br0Tl5RO9cUo",
        "outputId": "e881c8d0-d7ca-43c2-82ca-a3f86329bff9"
      },
      "execution_count": null,
      "outputs": [
        {
          "output_type": "stream",
          "name": "stdout",
          "text": [
            "[[2 2 3 4 4]\n",
            " [2 2 1 0 2]\n",
            " [2 2 1 2 0]\n",
            " [5 3 4 5 3]\n",
            " [4 4 3 2 2]]\n"
          ]
        }
      ]
    },
    {
      "cell_type": "code",
      "source": [
        "# Given array, returns permutation of column indices\n",
        "# to get minimum sum of values\n",
        "# Returns tuple where ith value is the column for the ith row\n",
        "def minsum(arr):\n",
        "  # Set large minimum as default\n",
        "  min = xsize ** 2\n",
        "\n",
        "  # xsize might be wrong val\n",
        "  # For each possible permutation,\n",
        "  for perm in itertools.permutations(range(xsize)):\n",
        "    sum = 0\n",
        "    # Add the values at (i, perm[i]) to sum\n",
        "    for i in range(ysize):\n",
        "      sum += arr[i][list(perm)[i]]\n",
        "      if sum > min:\n",
        "        break\n",
        "    # If perm has smaller sum than min, store new min sum and permutation\n",
        "    if sum < min:\n",
        "      min = sum\n",
        "      minperm = perm\n",
        "  # Return the smallest permutation found\n",
        "  return minperm\n",
        "\n",
        "  # OLD:\n",
        "  \"\"\"\n",
        "  for i in range(ysize):\n",
        "      # HERE we can implement periodic sum checking\n",
        "      lst.append(arr[i][list(perm)[i]])\n",
        "    # If perm has smaller sum than min, store new min sum and permutation\n",
        "    if sum(lst) < min:\n",
        "      min = sum(lst)\n",
        "      minperm = perm\n",
        "  \"\"\""
      ],
      "metadata": {
        "id": "G53ULUCWHsjc"
      },
      "execution_count": null,
      "outputs": []
    },
    {
      "cell_type": "code",
      "source": [
        "# Note: I don't know if this method will work overall,\n",
        "  # since we might still be able to create traffic jams\n",
        "  # Validity of algorithm must be proven,\n",
        "  # but likely best to improve first\n",
        "  # Proof might help visualization/learning how to make working algo\n",
        "\n",
        "print(minsum(distarr))"
      ],
      "metadata": {
        "colab": {
          "base_uri": "https://localhost:8080/"
        },
        "id": "l_IUaILK_rIs",
        "outputId": "8b549e35-ee30-4f65-a673-b437d8e06aea"
      },
      "execution_count": null,
      "outputs": [
        {
          "output_type": "stream",
          "name": "stdout",
          "text": [
            "(0, 2, 4, 1, 3)\n"
          ]
        }
      ]
    },
    {
      "cell_type": "markdown",
      "source": [
        "<h1> TESTING</h1>"
      ],
      "metadata": {
        "id": "CcMPuG2qAwMd"
      }
    },
    {
      "cell_type": "code",
      "source": [
        "# Takes tuple of end goal positions and dict of endid : endpos\n",
        "# Returns dict from startid : endpos\n",
        "def convert_goals(goals, endlist):\n",
        "  goaldict = {}\n",
        "  id = 1\n",
        "  for pos in goals:\n",
        "    goaldict[id] = endlist[(pos + 1) * 10]\n",
        "    id += 1\n",
        "  return goaldict"
      ],
      "metadata": {
        "id": "tp9GusuACQ_W"
      },
      "execution_count": null,
      "outputs": []
    },
    {
      "cell_type": "code",
      "source": [
        "# Note that at this point, endid is no longer used\n",
        "# We have startid based on startpos and endpos as identifiers\n",
        "goals = convert_goals(minsum(distarr), endlist)\n",
        "print(goals)"
      ],
      "metadata": {
        "colab": {
          "base_uri": "https://localhost:8080/"
        },
        "id": "PGg-vu3ZDn0u",
        "outputId": "a897b05d-7ca3-4522-b1b0-303025199f7c"
      },
      "execution_count": null,
      "outputs": [
        {
          "output_type": "stream",
          "name": "stdout",
          "text": [
            "{1: (1, 2), 2: (2, 2), 3: (3, 2), 4: (2, 1), 5: (2, 3)}\n"
          ]
        }
      ]
    },
    {
      "cell_type": "code",
      "source": [
        "# Get start position and end position from start and goal\n",
        "\"\"\"\n",
        "# Idea: create binary tree, node has position, left side being hori, right side being verti\n",
        "# Create tree for each start and end pair\n",
        "# Traverse each path possibility and check for collisions\n",
        "\n",
        "COUNT = 0\n",
        "\n",
        "class Node:\n",
        "  def __init__(self, hori, verti, pos, isEnd):\n",
        "    self.hori = hori\n",
        "    self.verti = verti\n",
        "    self.pos = pos\n",
        "    self.isEnd = isEnd\n",
        "\n",
        "  # I don't even know why this doesn't work\n",
        "  def str(self):\n",
        "    global COUNT\n",
        "    COUNT += 1 # Hopefully this works as intended\n",
        "    c = COUNT\n",
        "    print(\"Node\",str(c),self.pos)\n",
        "    h = \"None\"\n",
        "    if self.hori is not None:\n",
        "      h = self.hori.str()\n",
        "    print(\"hori (\"+str(c)+\"): \"+h)\n",
        "    v = \"None\"\n",
        "    if self.verti is not None:\n",
        "      v = self.verti.str()\n",
        "    print(\"verti (\"+str(c)+\"): \"+v)\n",
        "\n",
        "# Creates tree of all possible (direct) paths from given start and end position\n",
        "# None means going further in that direction is away from end\n",
        "# isEnd flag indicates ending nodes\n",
        "def path(start, end):\n",
        "  xs, ys = start\n",
        "  xe, ye = end\n",
        "  # If we are at end, no need to add another node\n",
        "  if start == end:\n",
        "    return Node(None, None, end, True)\n",
        "  # Otherwise, add node with next in vertical and horizontal path\n",
        "  if xs < xe:\n",
        "    hori = path((xs+1, ys), end)\n",
        "  elif xs > xe:\n",
        "    hori = path((xs-1, ys), end)\n",
        "  else:\n",
        "    hori = None\n",
        "  if ys < ye:\n",
        "    verti = path((xs, ys+1), end)\n",
        "  elif ys > ye:\n",
        "    verti = path((xs, ys-1), end)\n",
        "  else:\n",
        "    verti = None\n",
        "  return Node(hori, verti, start, False)\n",
        "\"\"\"\n",
        "# Rather than using clunky and slow OOP trees, just go straight from lists\n",
        "# We pass in lsts as an empty list; function populates lsts with desired paths\n",
        "def pathList(start, end, lst, lsts):\n",
        "  xs, ys = start\n",
        "  xe, ye = end\n",
        "  if start == end:\n",
        "    lsts.append(lst + [end])\n",
        "    return\n",
        "  if xs < xe:\n",
        "    pathList((xs+1, ys), end, lst + [start], lsts)\n",
        "  elif xs > xe:\n",
        "    pathList((xs-1, ys), end, lst + [start], lsts)\n",
        "  if ys < ye:\n",
        "    pathList((xs, ys+1), end, lst + [start], lsts)\n",
        "  elif ys > ye:\n",
        "    pathList((xs, ys-1), end, lst + [start], lsts)\n",
        "\n",
        "# This is tree-based code, deprecated\n",
        "# root = path((1,1), (2,2))\n",
        "# print(root.str())\n",
        "# root2 = path((3,4),(0,0))\n",
        "\n",
        "lsts = []\n",
        "pathList((3,4), (0,0), [], lsts)\n",
        "print(lsts)\n",
        "print(len(lsts))\n",
        "\n",
        "# So, this works for getting ONE tree out of a start and end\n",
        "# Whether that tree is useful or not is yet to be seen\n",
        "# And, how to transform that tree into something useful\n",
        "\n",
        "# I think the next step is to transform the tree into lists\n",
        "# Where we have positions and time intervals (indicies)\n",
        "# Then, we look at every bot's position simultaneously,\n",
        "# choose some paths, and check for collisions at all times\n",
        "# If no collisions, good to go\n",
        "# Otherwise, change the colliding paths somehow"
      ],
      "metadata": {
        "id": "X_1Nh5p8namV",
        "colab": {
          "base_uri": "https://localhost:8080/"
        },
        "outputId": "72be91b1-7ea7-488d-b3e5-711df4073677"
      },
      "execution_count": null,
      "outputs": [
        {
          "output_type": "stream",
          "name": "stdout",
          "text": [
            "[[(3, 4), (2, 4), (1, 4), (0, 4), (0, 3), (0, 2), (0, 1), (0, 0)], [(3, 4), (2, 4), (1, 4), (1, 3), (0, 3), (0, 2), (0, 1), (0, 0)], [(3, 4), (2, 4), (1, 4), (1, 3), (1, 2), (0, 2), (0, 1), (0, 0)], [(3, 4), (2, 4), (1, 4), (1, 3), (1, 2), (1, 1), (0, 1), (0, 0)], [(3, 4), (2, 4), (1, 4), (1, 3), (1, 2), (1, 1), (1, 0), (0, 0)], [(3, 4), (2, 4), (2, 3), (1, 3), (0, 3), (0, 2), (0, 1), (0, 0)], [(3, 4), (2, 4), (2, 3), (1, 3), (1, 2), (0, 2), (0, 1), (0, 0)], [(3, 4), (2, 4), (2, 3), (1, 3), (1, 2), (1, 1), (0, 1), (0, 0)], [(3, 4), (2, 4), (2, 3), (1, 3), (1, 2), (1, 1), (1, 0), (0, 0)], [(3, 4), (2, 4), (2, 3), (2, 2), (1, 2), (0, 2), (0, 1), (0, 0)], [(3, 4), (2, 4), (2, 3), (2, 2), (1, 2), (1, 1), (0, 1), (0, 0)], [(3, 4), (2, 4), (2, 3), (2, 2), (1, 2), (1, 1), (1, 0), (0, 0)], [(3, 4), (2, 4), (2, 3), (2, 2), (2, 1), (1, 1), (0, 1), (0, 0)], [(3, 4), (2, 4), (2, 3), (2, 2), (2, 1), (1, 1), (1, 0), (0, 0)], [(3, 4), (2, 4), (2, 3), (2, 2), (2, 1), (2, 0), (1, 0), (0, 0)], [(3, 4), (3, 3), (2, 3), (1, 3), (0, 3), (0, 2), (0, 1), (0, 0)], [(3, 4), (3, 3), (2, 3), (1, 3), (1, 2), (0, 2), (0, 1), (0, 0)], [(3, 4), (3, 3), (2, 3), (1, 3), (1, 2), (1, 1), (0, 1), (0, 0)], [(3, 4), (3, 3), (2, 3), (1, 3), (1, 2), (1, 1), (1, 0), (0, 0)], [(3, 4), (3, 3), (2, 3), (2, 2), (1, 2), (0, 2), (0, 1), (0, 0)], [(3, 4), (3, 3), (2, 3), (2, 2), (1, 2), (1, 1), (0, 1), (0, 0)], [(3, 4), (3, 3), (2, 3), (2, 2), (1, 2), (1, 1), (1, 0), (0, 0)], [(3, 4), (3, 3), (2, 3), (2, 2), (2, 1), (1, 1), (0, 1), (0, 0)], [(3, 4), (3, 3), (2, 3), (2, 2), (2, 1), (1, 1), (1, 0), (0, 0)], [(3, 4), (3, 3), (2, 3), (2, 2), (2, 1), (2, 0), (1, 0), (0, 0)], [(3, 4), (3, 3), (3, 2), (2, 2), (1, 2), (0, 2), (0, 1), (0, 0)], [(3, 4), (3, 3), (3, 2), (2, 2), (1, 2), (1, 1), (0, 1), (0, 0)], [(3, 4), (3, 3), (3, 2), (2, 2), (1, 2), (1, 1), (1, 0), (0, 0)], [(3, 4), (3, 3), (3, 2), (2, 2), (2, 1), (1, 1), (0, 1), (0, 0)], [(3, 4), (3, 3), (3, 2), (2, 2), (2, 1), (1, 1), (1, 0), (0, 0)], [(3, 4), (3, 3), (3, 2), (2, 2), (2, 1), (2, 0), (1, 0), (0, 0)], [(3, 4), (3, 3), (3, 2), (3, 1), (2, 1), (1, 1), (0, 1), (0, 0)], [(3, 4), (3, 3), (3, 2), (3, 1), (2, 1), (1, 1), (1, 0), (0, 0)], [(3, 4), (3, 3), (3, 2), (3, 1), (2, 1), (2, 0), (1, 0), (0, 0)], [(3, 4), (3, 3), (3, 2), (3, 1), (3, 0), (2, 0), (1, 0), (0, 0)]]\n",
            "35\n"
          ]
        }
      ]
    },
    {
      "cell_type": "code",
      "source": [
        "# Create a dictionary id maps to list of all possible paths from start to goal\n",
        "def getAllPaths(startlist, goals):\n",
        "  allPaths = {}\n",
        "  for id in goals:\n",
        "    lsts = []\n",
        "    pathList(startlist[id], goals[id], [], lsts)\n",
        "    allPaths[id] = lsts.copy()\n",
        "  return allPaths\n",
        "# print(startlist)\n",
        "# print(goals)\n",
        "allPaths = getAllPaths(startlist, goals)\n",
        "print(allPaths)"
      ],
      "metadata": {
        "colab": {
          "base_uri": "https://localhost:8080/"
        },
        "id": "XVpzxoItl0CP",
        "outputId": "2d01fb31-5dfe-4c2b-8a7f-a04e58ef44af"
      },
      "execution_count": null,
      "outputs": [
        {
          "output_type": "stream",
          "name": "stdout",
          "text": [
            "{1: [[(0, 1), (1, 1), (1, 2)], [(0, 1), (0, 2), (1, 2)]], 2: [[(2, 3), (2, 2)]], 3: [[(3, 2)]], 4: [[(4, 0), (3, 0), (2, 0), (2, 1)], [(4, 0), (3, 0), (3, 1), (2, 1)], [(4, 0), (4, 1), (3, 1), (2, 1)]], 5: [[(4, 3), (3, 3), (2, 3)]]}\n"
          ]
        }
      ]
    },
    {
      "cell_type": "code",
      "source": [
        "# We'll also want to convert allPaths to a more helpful format,\n",
        "# so we change all lists to the largest length and repeat the last entry to fill\n",
        "# First, find largest value\n",
        "def convertAllPaths(allPaths):\n",
        "  max = -1\n",
        "  for paths in allPaths.values():\n",
        "    newval = len(paths[0])\n",
        "    if newval > max:\n",
        "      max = newval\n",
        "  for paths in allPaths.values():\n",
        "    for i in range(len(paths)):\n",
        "      lastval = paths[i][len(paths[i]) - 1]\n",
        "      for j in range(max - len(paths[i])):\n",
        "        paths[i].append(lastval)\n",
        "  return max\n",
        "max = convertAllPaths(allPaths)\n",
        "print(max, allPaths)"
      ],
      "metadata": {
        "colab": {
          "base_uri": "https://localhost:8080/"
        },
        "id": "jfMSiYQ9sOZV",
        "outputId": "b55fc0c8-efd9-4498-f4b9-a613d01de121"
      },
      "execution_count": null,
      "outputs": [
        {
          "output_type": "stream",
          "name": "stdout",
          "text": [
            "4 {1: [[(0, 1), (1, 1), (1, 2), (1, 2)], [(0, 1), (0, 2), (1, 2), (1, 2)]], 2: [[(2, 3), (2, 2), (2, 2), (2, 2)]], 3: [[(3, 2), (3, 2), (3, 2), (3, 2)]], 4: [[(4, 0), (3, 0), (2, 0), (2, 1)], [(4, 0), (3, 0), (3, 1), (2, 1)], [(4, 0), (4, 1), (3, 1), (2, 1)]], 5: [[(4, 3), (3, 3), (2, 3), (2, 3)]]}\n"
          ]
        }
      ]
    },
    {
      "cell_type": "code",
      "source": [
        "# Next, we want to check all paths to see if any combinations work without collision\n",
        "# To do this, if we can generate all combinations of indices for each id,\n",
        "# then we can check the paths by checking index combinations\n",
        "def makeLsts(allPaths):\n",
        "  pathLengths = [len(x) for x in allPaths.values()]\n",
        "  print(pathLengths)\n",
        "  rangeList = [range(x) for x in pathLengths]\n",
        "  print(rangeList)\n",
        "  lsts = list(itertools.product(*rangeList))\n",
        "  return lsts\n",
        "lsts = makeLsts(allPaths)\n",
        "print(lsts)\n",
        "# Now, lsts contains all possible pairs of lists to check against each other"
      ],
      "metadata": {
        "colab": {
          "base_uri": "https://localhost:8080/"
        },
        "id": "sIEqmNr5ngYY",
        "outputId": "abd49d52-ae2c-474b-ed64-2d7e9fecb546"
      },
      "execution_count": null,
      "outputs": [
        {
          "output_type": "stream",
          "name": "stdout",
          "text": [
            "[2, 1, 1, 3, 1]\n",
            "[range(0, 2), range(0, 1), range(0, 1), range(0, 3), range(0, 1)]\n",
            "[(0, 0, 0, 0, 0), (0, 0, 0, 1, 0), (0, 0, 0, 2, 0), (1, 0, 0, 0, 0), (1, 0, 0, 1, 0), (1, 0, 0, 2, 0)]\n"
          ]
        }
      ]
    },
    {
      "cell_type": "code",
      "source": [
        "# So, we check if any of our lists work together\n",
        "# This returns the indices of the first set of working paths found\n",
        "def getIndices(allPaths, lsts, max):\n",
        "  for indices in lsts:\n",
        "    # Reform allPaths into list of lists with the chosen paths\n",
        "    currpaths = []\n",
        "    for i in range(len(allPaths)):\n",
        "      currpaths.append(allPaths[i + 1][indices[i]])\n",
        "    indfail = False\n",
        "    for i in range(max):\n",
        "      if not indfail:\n",
        "        timeslice = []\n",
        "        for j in range(len(currpaths)):\n",
        "          timeslice.append(currpaths[j][i])\n",
        "        if len(timeslice) != len(set(timeslice)):\n",
        "          print(\"Failure on time\", i)\n",
        "          indfail = True\n",
        "    if not indfail:\n",
        "      return indices\n",
        "indices = getIndices(allPaths, lsts, max)\n",
        "print(indices)"
      ],
      "metadata": {
        "colab": {
          "base_uri": "https://localhost:8080/"
        },
        "id": "im05VHlkrsJv",
        "outputId": "e069f9af-8241-4d04-9afe-7a20c993c9d4"
      },
      "execution_count": null,
      "outputs": [
        {
          "output_type": "stream",
          "name": "stdout",
          "text": [
            "(0, 0, 0, 0, 0)\n"
          ]
        }
      ]
    },
    {
      "cell_type": "code",
      "source": [
        "# Now that we know the paths, we can use this to generate movement instructions\n",
        "finalPaths = {}\n",
        "for i in range(len(allPaths)):\n",
        "  finalPaths[i+1] = allPaths[i + 1][indices[i]]\n",
        "print(finalPaths)"
      ],
      "metadata": {
        "colab": {
          "base_uri": "https://localhost:8080/"
        },
        "id": "PDxePgRqIxgT",
        "outputId": "c64870d5-b5f2-41f6-89f2-87fb5dbbfc7c"
      },
      "execution_count": null,
      "outputs": [
        {
          "output_type": "stream",
          "name": "stdout",
          "text": [
            "{1: [(0, 1), (1, 1), (1, 2), (1, 2)], 2: [(2, 3), (2, 2), (2, 2), (2, 2)], 3: [(3, 2), (3, 2), (3, 2), (3, 2)], 4: [(4, 0), (3, 0), (2, 0), (2, 1)], 5: [(4, 3), (3, 3), (2, 3), (2, 3)]}\n"
          ]
        }
      ]
    },
    {
      "cell_type": "code",
      "source": [
        "# Convert from finalPaths to BLE information\n",
        "\n",
        "# The following loops over time, increasin index for each path\n",
        "# First, for each bot, check current position v next position,\n",
        "# determine what direction we're moving\n",
        "# Then, in our output, in position corresponding to id, write direction as number\n",
        "\n",
        "# Note, we use range(max-1) since we only need max-1 moves\n",
        "for time in range(max - 1):\n",
        "  direction = []\n",
        "  for id in finalPaths:\n",
        "    ys, xs = finalPaths[id][time]\n",
        "    ye, xe = finalPaths[id][time + 1]\n",
        "    if xs > xe: # LEFT\n",
        "      direction += [4]\n",
        "    elif xs < xe: # RIGHT\n",
        "      direction += [2]\n",
        "    elif ys < ye: # SOUTH\n",
        "      direction += [3]\n",
        "    elif ys > ye: # NORTH\n",
        "      direction += [1]\n",
        "    else: # STATIONARY\n",
        "      direction += [0]\n",
        "  print(direction)"
      ],
      "metadata": {
        "colab": {
          "base_uri": "https://localhost:8080/"
        },
        "id": "raoPwDnxMrBS",
        "outputId": "edd2c4d6-9700-4aaa-858f-9326555dd87c"
      },
      "execution_count": null,
      "outputs": [
        {
          "output_type": "stream",
          "name": "stdout",
          "text": [
            "[3, 4, 0, 1, 1]\n",
            "[2, 0, 0, 1, 1]\n",
            "[0, 0, 0, 2, 0]\n"
          ]
        }
      ]
    },
    {
      "cell_type": "code",
      "source": [
        "# Sending via bluetooth:\n",
        "# Make sure IDs of each bot in this notebook and on bots match\n",
        "  # ^^ Need to manually place/check? Since we don't have relative position botside\n",
        "# Look at the direction each bot will move in\n",
        "# Publish to characteristic a message where direction is 00,01,10,11\n",
        "  # and bot to move that direction is position ID in the message\n",
        "# (This condenses all relevant information into most concise format)"
      ],
      "metadata": {
        "id": "3EkpaRjlK_Y1"
      },
      "execution_count": null,
      "outputs": []
    },
    {
      "cell_type": "code",
      "source": [
        "# Here's a black box for the whole process\n",
        "# Takes in startboard, endboard, returns dict from startid to path\n",
        "def blackbox(startboard, endboard):\n",
        "  # CURRENTLY ASSUMES XSIZE KNOWN\n",
        "  startlist = convert_board(board, False)\n",
        "  endlist = convert_board(endboard, True)\n",
        "  distlist = find_dists(startlist, endlist)\n",
        "  distarr = np.array([distlist[key + 1] for key in range(xsize)]).T\n",
        "  distarr = np.asarray([list(row.values()) for row in distarr])\n",
        "  mins = minsum(distarr)\n",
        "  goals = convert_goals(mins, endlist)\n",
        "  allPaths = getAllPaths(startlist, goals)\n",
        "  max = convertAllPaths(allPaths)\n",
        "  lsts = makeLsts(allPaths)\n",
        "  indices = getIndices(allPaths, lsts, max)\n",
        "  # Change using indices -> paths\n",
        "  return indices"
      ],
      "metadata": {
        "id": "58HD7VvCJJT7"
      },
      "execution_count": null,
      "outputs": []
    },
    {
      "cell_type": "code",
      "source": [
        "startboard = np.asarray(gen_board(5, 5, 5))\n",
        "endboard = np.asarray(gen_board(5, 5, 5))\n",
        "print(startboard)\n",
        "print(endboard)\n",
        "# We're probably having issues with given randomly generated boards\n",
        "# Split the board generation and blackbox into two cells,\n",
        "# use that to generate problematic boards and test\n",
        "print(blackbox(startboard, endboard))"
      ],
      "metadata": {
        "colab": {
          "base_uri": "https://localhost:8080/"
        },
        "id": "ZZzxwnduTS1y",
        "outputId": "09bd893a-9fc5-4737-ebd0-c72f080583b4"
      },
      "execution_count": null,
      "outputs": [
        {
          "output_type": "stream",
          "name": "stdout",
          "text": [
            "[[1 0 0 0 0]\n",
            " [0 0 0 0 0]\n",
            " [0 1 0 1 0]\n",
            " [0 1 0 1 0]\n",
            " [0 0 0 0 0]]\n",
            "[[0 0 1 0 0]\n",
            " [0 0 0 0 0]\n",
            " [1 1 0 0 0]\n",
            " [0 0 0 0 0]\n",
            " [1 0 1 0 0]]\n",
            "[1, 1, 2, 1, 1]\n",
            "[range(0, 1), range(0, 1), range(0, 2), range(0, 1), range(0, 1)]\n",
            "Failure on time 1\n",
            "Failure on time 2\n",
            "None\n"
          ]
        }
      ]
    },
    {
      "cell_type": "markdown",
      "source": [
        "<h1>OLD CODE</h1>"
      ],
      "metadata": {
        "id": "z78ECRxvycDy"
      }
    },
    {
      "cell_type": "code",
      "execution_count": null,
      "metadata": {
        "id": "ZULD3FX1tYdE"
      },
      "outputs": [],
      "source": [
        "# We can probably phase this out for speed at some point\n",
        "\n",
        "# Class for bots; we use these to track where to go\n",
        "class Bot:\n",
        "  def __init__(self, xpos, ypos, id):\n",
        "    self.xpos = xpos\n",
        "    self.ypos = ypos\n",
        "    self.id = id\n",
        "    self.hasorders = False\n",
        "    # self.closestdist = -1"
      ]
    },
    {
      "cell_type": "code",
      "source": [
        "def find_closest_dists(distlist):\n",
        "  ind_list = []\n",
        "  for lst in distlist:\n",
        "    small1, small2 = two_smallest(lst) # two_smallest gets two smallest vals of lst\n",
        "    ind1 = lst.index(small1)\n",
        "    start = 0\n",
        "    if small1 == small2:\n",
        "      start = ind1+1\n",
        "    ind2 = lst.index(small2, start)\n",
        "    ind_list.append((ind1, ind2))\n",
        "  return ind_list"
      ],
      "metadata": {
        "id": "J2-2hhAOaYDs"
      },
      "execution_count": null,
      "outputs": []
    },
    {
      "cell_type": "code",
      "source": [
        "print(find_closest_dists(distlist))\n",
        "# Need to somehow convert to finding smallest indices of each list\n",
        "# Can assume 0,1,2,3,4 for now to work on other functionality"
      ],
      "metadata": {
        "colab": {
          "base_uri": "https://localhost:8080/"
        },
        "id": "w0QM5pmVcfw0",
        "outputId": "0e10525b-742e-4bd3-fe43-7ca921e2dc68"
      },
      "execution_count": null,
      "outputs": [
        {
          "output_type": "stream",
          "name": "stdout",
          "text": [
            "[(0, 1), (3, 2), (4, 2), (1, 4), (3, 4)]\n"
          ]
        }
      ]
    },
    {
      "cell_type": "code",
      "source": [
        "# Rather than make an array of bots, faster to just list of bots and positions\n",
        "# The list of bots only used to perform operations when bot class exists\n",
        "\n",
        "# Given an array of 1/0, convert to bot/empty\n",
        "# Returns converted board and ordered list of bots, left to right, top to bottom\n",
        "def convert_board(board, xsize, ysize):\n",
        "  id = 0\n",
        "  botlist = []\n",
        "  newboard = [[0]*xsize for i in range(ysize)]\n",
        "  for row in range(ysize):\n",
        "    for col in range(xsize):\n",
        "      if board[row, col] == 1:\n",
        "        bot = Bot(col, row, id)\n",
        "        newboard[row][col] = bot\n",
        "        id += 1\n",
        "        botlist.append(bot)\n",
        "      else:\n",
        "        newboard[row][col] = None\n",
        "  return newboard, botlist"
      ],
      "metadata": {
        "id": "Zh0q1sdh0Mkc"
      },
      "execution_count": null,
      "outputs": []
    },
    {
      "cell_type": "code",
      "source": [
        "# Once bots have closest place to go to, loop through bots,\n",
        "  # do a move in positive direction\n",
        "\n",
        "# There is no mechanism for a bot that gets stuck; need to add that later\n",
        "# Though, that could also be handled in pathing stage\n",
        "def perform_move(poslist, endlist, distlist):\n",
        "  # step_count exclusively to track performance\n",
        "  step_count = 0\n",
        "  while(poslist is not endlist):\n",
        "    step_count += 1\n",
        "    for i in range(len(poslist)):\n",
        "      # The move:\n",
        "      # ith starting position\n",
        "      pos = poslist[i]\n",
        "      # distlist[i] = index of end pos for bot i\n",
        "      end = endlist[distlist[i]]\n",
        "      if pos is not end:\n",
        "        sx, sy = pos\n",
        "        ex, ey = end\n",
        "        if sx < ex and (sx+1, sy) not in poslist:\n",
        "          poslist[i] = (sx+1, sy)\n",
        "        elif sx > ex and (sx-1, sy) not in poslist:\n",
        "          poslist[i] = (sx-1, sy)\n",
        "        elif sy < ey and (sx, sy+1) not in poslist:\n",
        "          poslist[i] = (sx, sy+1)\n",
        "        elif sy > ey and (sx, sy-1) not in poslist:\n",
        "          poslist[i] = (sx, sy-1)"
      ],
      "metadata": {
        "id": "mZ3HwMOH4t-T"
      },
      "execution_count": null,
      "outputs": []
    },
    {
      "cell_type": "code",
      "source": [
        "# Pretty sure this is exact code for itertools.product\n",
        "\n",
        "def product(arr):\n",
        "  pools = [tuple(pool) for pool in arr]\n",
        "  result = [[]]\n",
        "  for pool in pools:\n",
        "    result = [x+[y] for x in result for y in pool]\n",
        "  for prod in result:\n",
        "    yield tuple(prod)"
      ],
      "metadata": {
        "id": "aPZNHBBTVplI"
      },
      "execution_count": null,
      "outputs": []
    },
    {
      "cell_type": "code",
      "source": [
        "# Given dict of list of lists of possible paths for each bot,\n",
        "# brute force find first path with no collisions\n",
        "def find_best_path(paths):\n",
        "  return\n",
        "  # (Maybe) better idea: take two bots, remove all collision paths\n",
        "  # Then, add third bot and calculate with reduced path list\n",
        "  # for bots in range(2,paths.items().len+1):\n",
        "\n",
        "  # OR, OVA? But then we can't figure out what path to remove\n",
        "\n",
        "  # Problem: Collision happens from pair of paths,\n",
        "  # but we have no way of knowing if either path is good elsewhere\n",
        "  # Maybe then we need to do more brute force?\n",
        "\n",
        "  # OVO to condense length could work?\n",
        "  # So, bot i and i+1 compare, keep only path combos with no collisions\n",
        "  # Then, we have list of tuples of positions, compare to other list of tuples?\n",
        "\n",
        "  # Could also do:\n",
        "  # Organize paths based on current locations; i.e.,\n",
        "  # make groups for each bot and compare those groups with other bots\n",
        "  # Instead of checking 12 paths with pos (x1,x2) with 13 paths with pos (y1,y2),\n",
        "  # we check if (x1,x2)==(y1,y2) and judge the whole group from that"
      ],
      "metadata": {
        "id": "KAKaqZvrUQQj"
      },
      "execution_count": null,
      "outputs": []
    },
    {
      "cell_type": "code",
      "source": [
        "# currpos is dict from id to current position\n",
        "# goals is dict from id to end position\n",
        "def perform_move(currpos, goals):\n",
        "  # From current position, move each bot one position towards end goal\n",
        "\n",
        "  # Keep list of new positions for each bot,\n",
        "  # before actually moving, check for duplicate values,\n",
        "  # Unlikely to be triples (maybe ignore for now?)\n",
        "  # determine which direction is best for each bot (how?)\n",
        "\n",
        "  # Inevitably, we'll have issue where we go the wrong way\n",
        "  # Ex: bot top left to center, goes right first, should go down first\n",
        "  return\n",
        "  # Generate board from newpos after movement"
      ],
      "metadata": {
        "id": "0DBqk1H-Ayld"
      },
      "execution_count": null,
      "outputs": []
    },
    {
      "cell_type": "code",
      "source": [
        "# Actual movement loop\n",
        "goals = convert_goals(minsum(arr), endlist)\n",
        "\n",
        "# When going into application, add waits to allow for acutation time"
      ],
      "metadata": {
        "id": "kK_8qls-EXgO"
      },
      "execution_count": null,
      "outputs": []
    }
  ]
}